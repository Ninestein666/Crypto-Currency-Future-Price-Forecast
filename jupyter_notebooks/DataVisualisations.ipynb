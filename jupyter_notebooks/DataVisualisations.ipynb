{
  "cells": [
    {
      "cell_type": "markdown",
      "metadata": {
        "id": "0aStgWSO0E0E"
      },
      "source": [
        "# **(Crypto Currency Future Price Forecast Data Visualisations)**"
      ]
    },
    {
      "cell_type": "markdown",
      "metadata": {
        "id": "1eLEkw5O0ECa"
      },
      "source": [
        "## Objectives\n",
        "\n",
        "- Load my one clean dataset.\n",
        "- Focus on the last 365 days to keep visuals readable.\n",
        "- Create per-coin charts:- Price + MA(7/30)\n",
        "  - Price + MA(7/30)\n",
        "  - MACD (line/signal + histogram)\n",
        "  - RSI(14) with 30/70 guide lines\n",
        "  - Bollinger Bands (20, 2σ)\n",
        "  - Build a daily indication (BUY / HOLD / SELL) using MA + MACD + RSI.\n",
        "\n",
        "Save PNGs and compact CSV tables in Reports/ for Power BI.\n",
        "\n",
        "## Inputs\n",
        "\n",
        "* DataSet/Cleaned/crypto_clean.csv\n",
        "\n",
        "\n"
      ]
    },
    {
      "cell_type": "markdown",
      "metadata": {
        "id": "9uWZXH9LwoQg"
      },
      "source": [
        "---"
      ]
    },
    {
      "cell_type": "markdown",
      "metadata": {
        "id": "cqP-UeN-z3i2"
      },
      "source": [
        "# Change working directory"
      ]
    },
    {
      "cell_type": "markdown",
      "metadata": {},
      "source": [
        "* We are assuming you will store the notebooks in a subfolder, therefore when running the notebook in the editor, you will need to change the working directory"
      ]
    },
    {
      "cell_type": "markdown",
      "metadata": {
        "id": "aOGIGS-uz3i2"
      },
      "source": [
        "We need to change the working directory from its current folder to its parent folder\n",
        "* We access the current directory with os.getcwd()"
      ]
    },
    {
      "cell_type": "code",
      "execution_count": 15,
      "metadata": {
        "id": "wZfF_j-Bz3i4",
        "outputId": "66943449-1436-4c3d-85c7-b85f9f78349b"
      },
      "outputs": [
        {
          "data": {
            "text/plain": [
              "'c:\\\\Users\\\\Nine\\\\OneDrive\\\\Documents\\\\VS Code Projects'"
            ]
          },
          "execution_count": 15,
          "metadata": {},
          "output_type": "execute_result"
        }
      ],
      "source": [
        "import os\n",
        "current_dir = os.getcwd()\n",
        "current_dir"
      ]
    },
    {
      "cell_type": "markdown",
      "metadata": {
        "id": "9MWW8E7lz3i7"
      },
      "source": [
        "We want to make the parent of the current directory the new current directory\n",
        "* os.path.dirname() gets the parent directory\n",
        "* os.chir() defines the new current directory"
      ]
    },
    {
      "cell_type": "code",
      "execution_count": 16,
      "metadata": {
        "id": "TwHsQRWjz3i9",
        "outputId": "86849db3-cd2f-4cc5-ebb8-2d0caafa1a2c"
      },
      "outputs": [
        {
          "name": "stdout",
          "output_type": "stream",
          "text": [
            "You set a new current directory\n"
          ]
        }
      ],
      "source": [
        "os.chdir(os.path.dirname(current_dir))\n",
        "print(\"You set a new current directory\")"
      ]
    },
    {
      "cell_type": "markdown",
      "metadata": {
        "id": "M_xPk_Ijz3i-"
      },
      "source": [
        "Confirm the new current directory"
      ]
    },
    {
      "cell_type": "code",
      "execution_count": 17,
      "metadata": {
        "id": "vz3S-_kjz3jA",
        "outputId": "00b79ae4-75d0-4a96-d193-ac9ef9847ea2"
      },
      "outputs": [
        {
          "data": {
            "text/plain": [
              "'c:\\\\Users\\\\Nine\\\\OneDrive\\\\Documents'"
            ]
          },
          "execution_count": 17,
          "metadata": {},
          "output_type": "execute_result"
        }
      ],
      "source": [
        "current_dir = os.getcwd()\n",
        "current_dir"
      ]
    },
    {
      "cell_type": "markdown",
      "metadata": {
        "id": "-mavJ8DibrcQ"
      },
      "source": [
        "# Section 1"
      ]
    },
    {
      "cell_type": "markdown",
      "metadata": {},
      "source": [
        "Import libraries and dataset"
      ]
    },
    {
      "cell_type": "code",
      "execution_count": 18,
      "metadata": {},
      "outputs": [
        {
          "ename": "FileNotFoundError",
          "evalue": "[Errno 2] No such file or directory: 'DataSet\\\\Cleaned\\\\crypto_clean.csv'",
          "output_type": "error",
          "traceback": [
            "\u001b[31m---------------------------------------------------------------------------\u001b[39m",
            "\u001b[31mFileNotFoundError\u001b[39m                         Traceback (most recent call last)",
            "\u001b[36mCell\u001b[39m\u001b[36m \u001b[39m\u001b[32mIn[18]\u001b[39m\u001b[32m, line 10\u001b[39m\n\u001b[32m      7\u001b[39m REPORTS = Path(\u001b[33m\"\u001b[39m\u001b[33mReports\u001b[39m\u001b[33m\"\u001b[39m)\n\u001b[32m      8\u001b[39m REPORTS.mkdir(exist_ok=\u001b[38;5;28;01mTrue\u001b[39;00m)\n\u001b[32m---> \u001b[39m\u001b[32m10\u001b[39m df = \u001b[43mpd\u001b[49m\u001b[43m.\u001b[49m\u001b[43mread_csv\u001b[49m\u001b[43m(\u001b[49m\u001b[43mCLEAN\u001b[49m\u001b[43m,\u001b[49m\u001b[43m \u001b[49m\u001b[43mparse_dates\u001b[49m\u001b[43m=\u001b[49m\u001b[43m[\u001b[49m\u001b[33;43m\"\u001b[39;49m\u001b[33;43mDate\u001b[39;49m\u001b[33;43m\"\u001b[39;49m\u001b[43m]\u001b[49m\u001b[43m)\u001b[49m.sort_values([\u001b[33m\"\u001b[39m\u001b[33mSymbol\u001b[39m\u001b[33m\"\u001b[39m,\u001b[33m\"\u001b[39m\u001b[33mDate\u001b[39m\u001b[33m\"\u001b[39m]).reset_index(drop=\u001b[38;5;28;01mTrue\u001b[39;00m)\n\u001b[32m     11\u001b[39m \u001b[38;5;28mprint\u001b[39m(df.shape)\n\u001b[32m     12\u001b[39m df.head()\n",
            "\u001b[36mFile \u001b[39m\u001b[32mc:\\Users\\Nine\\OneDrive\\Documents\\VS Code Projects\\Crypto-Currency-Future-Price-Forecast\\.venv\\Lib\\site-packages\\pandas\\io\\parsers\\readers.py:948\u001b[39m, in \u001b[36mread_csv\u001b[39m\u001b[34m(filepath_or_buffer, sep, delimiter, header, names, index_col, usecols, dtype, engine, converters, true_values, false_values, skipinitialspace, skiprows, skipfooter, nrows, na_values, keep_default_na, na_filter, verbose, skip_blank_lines, parse_dates, infer_datetime_format, keep_date_col, date_parser, date_format, dayfirst, cache_dates, iterator, chunksize, compression, thousands, decimal, lineterminator, quotechar, quoting, doublequote, escapechar, comment, encoding, encoding_errors, dialect, on_bad_lines, delim_whitespace, low_memory, memory_map, float_precision, storage_options, dtype_backend)\u001b[39m\n\u001b[32m    935\u001b[39m kwds_defaults = _refine_defaults_read(\n\u001b[32m    936\u001b[39m     dialect,\n\u001b[32m    937\u001b[39m     delimiter,\n\u001b[32m   (...)\u001b[39m\u001b[32m    944\u001b[39m     dtype_backend=dtype_backend,\n\u001b[32m    945\u001b[39m )\n\u001b[32m    946\u001b[39m kwds.update(kwds_defaults)\n\u001b[32m--> \u001b[39m\u001b[32m948\u001b[39m \u001b[38;5;28;01mreturn\u001b[39;00m \u001b[43m_read\u001b[49m\u001b[43m(\u001b[49m\u001b[43mfilepath_or_buffer\u001b[49m\u001b[43m,\u001b[49m\u001b[43m \u001b[49m\u001b[43mkwds\u001b[49m\u001b[43m)\u001b[49m\n",
            "\u001b[36mFile \u001b[39m\u001b[32mc:\\Users\\Nine\\OneDrive\\Documents\\VS Code Projects\\Crypto-Currency-Future-Price-Forecast\\.venv\\Lib\\site-packages\\pandas\\io\\parsers\\readers.py:611\u001b[39m, in \u001b[36m_read\u001b[39m\u001b[34m(filepath_or_buffer, kwds)\u001b[39m\n\u001b[32m    608\u001b[39m _validate_names(kwds.get(\u001b[33m\"\u001b[39m\u001b[33mnames\u001b[39m\u001b[33m\"\u001b[39m, \u001b[38;5;28;01mNone\u001b[39;00m))\n\u001b[32m    610\u001b[39m \u001b[38;5;66;03m# Create the parser.\u001b[39;00m\n\u001b[32m--> \u001b[39m\u001b[32m611\u001b[39m parser = \u001b[43mTextFileReader\u001b[49m\u001b[43m(\u001b[49m\u001b[43mfilepath_or_buffer\u001b[49m\u001b[43m,\u001b[49m\u001b[43m \u001b[49m\u001b[43m*\u001b[49m\u001b[43m*\u001b[49m\u001b[43mkwds\u001b[49m\u001b[43m)\u001b[49m\n\u001b[32m    613\u001b[39m \u001b[38;5;28;01mif\u001b[39;00m chunksize \u001b[38;5;129;01mor\u001b[39;00m iterator:\n\u001b[32m    614\u001b[39m     \u001b[38;5;28;01mreturn\u001b[39;00m parser\n",
            "\u001b[36mFile \u001b[39m\u001b[32mc:\\Users\\Nine\\OneDrive\\Documents\\VS Code Projects\\Crypto-Currency-Future-Price-Forecast\\.venv\\Lib\\site-packages\\pandas\\io\\parsers\\readers.py:1448\u001b[39m, in \u001b[36mTextFileReader.__init__\u001b[39m\u001b[34m(self, f, engine, **kwds)\u001b[39m\n\u001b[32m   1445\u001b[39m     \u001b[38;5;28mself\u001b[39m.options[\u001b[33m\"\u001b[39m\u001b[33mhas_index_names\u001b[39m\u001b[33m\"\u001b[39m] = kwds[\u001b[33m\"\u001b[39m\u001b[33mhas_index_names\u001b[39m\u001b[33m\"\u001b[39m]\n\u001b[32m   1447\u001b[39m \u001b[38;5;28mself\u001b[39m.handles: IOHandles | \u001b[38;5;28;01mNone\u001b[39;00m = \u001b[38;5;28;01mNone\u001b[39;00m\n\u001b[32m-> \u001b[39m\u001b[32m1448\u001b[39m \u001b[38;5;28mself\u001b[39m._engine = \u001b[38;5;28;43mself\u001b[39;49m\u001b[43m.\u001b[49m\u001b[43m_make_engine\u001b[49m\u001b[43m(\u001b[49m\u001b[43mf\u001b[49m\u001b[43m,\u001b[49m\u001b[43m \u001b[49m\u001b[38;5;28;43mself\u001b[39;49m\u001b[43m.\u001b[49m\u001b[43mengine\u001b[49m\u001b[43m)\u001b[49m\n",
            "\u001b[36mFile \u001b[39m\u001b[32mc:\\Users\\Nine\\OneDrive\\Documents\\VS Code Projects\\Crypto-Currency-Future-Price-Forecast\\.venv\\Lib\\site-packages\\pandas\\io\\parsers\\readers.py:1705\u001b[39m, in \u001b[36mTextFileReader._make_engine\u001b[39m\u001b[34m(self, f, engine)\u001b[39m\n\u001b[32m   1703\u001b[39m     \u001b[38;5;28;01mif\u001b[39;00m \u001b[33m\"\u001b[39m\u001b[33mb\u001b[39m\u001b[33m\"\u001b[39m \u001b[38;5;129;01mnot\u001b[39;00m \u001b[38;5;129;01min\u001b[39;00m mode:\n\u001b[32m   1704\u001b[39m         mode += \u001b[33m\"\u001b[39m\u001b[33mb\u001b[39m\u001b[33m\"\u001b[39m\n\u001b[32m-> \u001b[39m\u001b[32m1705\u001b[39m \u001b[38;5;28mself\u001b[39m.handles = \u001b[43mget_handle\u001b[49m\u001b[43m(\u001b[49m\n\u001b[32m   1706\u001b[39m \u001b[43m    \u001b[49m\u001b[43mf\u001b[49m\u001b[43m,\u001b[49m\n\u001b[32m   1707\u001b[39m \u001b[43m    \u001b[49m\u001b[43mmode\u001b[49m\u001b[43m,\u001b[49m\n\u001b[32m   1708\u001b[39m \u001b[43m    \u001b[49m\u001b[43mencoding\u001b[49m\u001b[43m=\u001b[49m\u001b[38;5;28;43mself\u001b[39;49m\u001b[43m.\u001b[49m\u001b[43moptions\u001b[49m\u001b[43m.\u001b[49m\u001b[43mget\u001b[49m\u001b[43m(\u001b[49m\u001b[33;43m\"\u001b[39;49m\u001b[33;43mencoding\u001b[39;49m\u001b[33;43m\"\u001b[39;49m\u001b[43m,\u001b[49m\u001b[43m \u001b[49m\u001b[38;5;28;43;01mNone\u001b[39;49;00m\u001b[43m)\u001b[49m\u001b[43m,\u001b[49m\n\u001b[32m   1709\u001b[39m \u001b[43m    \u001b[49m\u001b[43mcompression\u001b[49m\u001b[43m=\u001b[49m\u001b[38;5;28;43mself\u001b[39;49m\u001b[43m.\u001b[49m\u001b[43moptions\u001b[49m\u001b[43m.\u001b[49m\u001b[43mget\u001b[49m\u001b[43m(\u001b[49m\u001b[33;43m\"\u001b[39;49m\u001b[33;43mcompression\u001b[39;49m\u001b[33;43m\"\u001b[39;49m\u001b[43m,\u001b[49m\u001b[43m \u001b[49m\u001b[38;5;28;43;01mNone\u001b[39;49;00m\u001b[43m)\u001b[49m\u001b[43m,\u001b[49m\n\u001b[32m   1710\u001b[39m \u001b[43m    \u001b[49m\u001b[43mmemory_map\u001b[49m\u001b[43m=\u001b[49m\u001b[38;5;28;43mself\u001b[39;49m\u001b[43m.\u001b[49m\u001b[43moptions\u001b[49m\u001b[43m.\u001b[49m\u001b[43mget\u001b[49m\u001b[43m(\u001b[49m\u001b[33;43m\"\u001b[39;49m\u001b[33;43mmemory_map\u001b[39;49m\u001b[33;43m\"\u001b[39;49m\u001b[43m,\u001b[49m\u001b[43m \u001b[49m\u001b[38;5;28;43;01mFalse\u001b[39;49;00m\u001b[43m)\u001b[49m\u001b[43m,\u001b[49m\n\u001b[32m   1711\u001b[39m \u001b[43m    \u001b[49m\u001b[43mis_text\u001b[49m\u001b[43m=\u001b[49m\u001b[43mis_text\u001b[49m\u001b[43m,\u001b[49m\n\u001b[32m   1712\u001b[39m \u001b[43m    \u001b[49m\u001b[43merrors\u001b[49m\u001b[43m=\u001b[49m\u001b[38;5;28;43mself\u001b[39;49m\u001b[43m.\u001b[49m\u001b[43moptions\u001b[49m\u001b[43m.\u001b[49m\u001b[43mget\u001b[49m\u001b[43m(\u001b[49m\u001b[33;43m\"\u001b[39;49m\u001b[33;43mencoding_errors\u001b[39;49m\u001b[33;43m\"\u001b[39;49m\u001b[43m,\u001b[49m\u001b[43m \u001b[49m\u001b[33;43m\"\u001b[39;49m\u001b[33;43mstrict\u001b[39;49m\u001b[33;43m\"\u001b[39;49m\u001b[43m)\u001b[49m\u001b[43m,\u001b[49m\n\u001b[32m   1713\u001b[39m \u001b[43m    \u001b[49m\u001b[43mstorage_options\u001b[49m\u001b[43m=\u001b[49m\u001b[38;5;28;43mself\u001b[39;49m\u001b[43m.\u001b[49m\u001b[43moptions\u001b[49m\u001b[43m.\u001b[49m\u001b[43mget\u001b[49m\u001b[43m(\u001b[49m\u001b[33;43m\"\u001b[39;49m\u001b[33;43mstorage_options\u001b[39;49m\u001b[33;43m\"\u001b[39;49m\u001b[43m,\u001b[49m\u001b[43m \u001b[49m\u001b[38;5;28;43;01mNone\u001b[39;49;00m\u001b[43m)\u001b[49m\u001b[43m,\u001b[49m\n\u001b[32m   1714\u001b[39m \u001b[43m\u001b[49m\u001b[43m)\u001b[49m\n\u001b[32m   1715\u001b[39m \u001b[38;5;28;01massert\u001b[39;00m \u001b[38;5;28mself\u001b[39m.handles \u001b[38;5;129;01mis\u001b[39;00m \u001b[38;5;129;01mnot\u001b[39;00m \u001b[38;5;28;01mNone\u001b[39;00m\n\u001b[32m   1716\u001b[39m f = \u001b[38;5;28mself\u001b[39m.handles.handle\n",
            "\u001b[36mFile \u001b[39m\u001b[32mc:\\Users\\Nine\\OneDrive\\Documents\\VS Code Projects\\Crypto-Currency-Future-Price-Forecast\\.venv\\Lib\\site-packages\\pandas\\io\\common.py:863\u001b[39m, in \u001b[36mget_handle\u001b[39m\u001b[34m(path_or_buf, mode, encoding, compression, memory_map, is_text, errors, storage_options)\u001b[39m\n\u001b[32m    858\u001b[39m \u001b[38;5;28;01melif\u001b[39;00m \u001b[38;5;28misinstance\u001b[39m(handle, \u001b[38;5;28mstr\u001b[39m):\n\u001b[32m    859\u001b[39m     \u001b[38;5;66;03m# Check whether the filename is to be opened in binary mode.\u001b[39;00m\n\u001b[32m    860\u001b[39m     \u001b[38;5;66;03m# Binary mode does not support 'encoding' and 'newline'.\u001b[39;00m\n\u001b[32m    861\u001b[39m     \u001b[38;5;28;01mif\u001b[39;00m ioargs.encoding \u001b[38;5;129;01mand\u001b[39;00m \u001b[33m\"\u001b[39m\u001b[33mb\u001b[39m\u001b[33m\"\u001b[39m \u001b[38;5;129;01mnot\u001b[39;00m \u001b[38;5;129;01min\u001b[39;00m ioargs.mode:\n\u001b[32m    862\u001b[39m         \u001b[38;5;66;03m# Encoding\u001b[39;00m\n\u001b[32m--> \u001b[39m\u001b[32m863\u001b[39m         handle = \u001b[38;5;28;43mopen\u001b[39;49m\u001b[43m(\u001b[49m\n\u001b[32m    864\u001b[39m \u001b[43m            \u001b[49m\u001b[43mhandle\u001b[49m\u001b[43m,\u001b[49m\n\u001b[32m    865\u001b[39m \u001b[43m            \u001b[49m\u001b[43mioargs\u001b[49m\u001b[43m.\u001b[49m\u001b[43mmode\u001b[49m\u001b[43m,\u001b[49m\n\u001b[32m    866\u001b[39m \u001b[43m            \u001b[49m\u001b[43mencoding\u001b[49m\u001b[43m=\u001b[49m\u001b[43mioargs\u001b[49m\u001b[43m.\u001b[49m\u001b[43mencoding\u001b[49m\u001b[43m,\u001b[49m\n\u001b[32m    867\u001b[39m \u001b[43m            \u001b[49m\u001b[43merrors\u001b[49m\u001b[43m=\u001b[49m\u001b[43merrors\u001b[49m\u001b[43m,\u001b[49m\n\u001b[32m    868\u001b[39m \u001b[43m            \u001b[49m\u001b[43mnewline\u001b[49m\u001b[43m=\u001b[49m\u001b[33;43m\"\u001b[39;49m\u001b[33;43m\"\u001b[39;49m\u001b[43m,\u001b[49m\n\u001b[32m    869\u001b[39m \u001b[43m        \u001b[49m\u001b[43m)\u001b[49m\n\u001b[32m    870\u001b[39m     \u001b[38;5;28;01melse\u001b[39;00m:\n\u001b[32m    871\u001b[39m         \u001b[38;5;66;03m# Binary mode\u001b[39;00m\n\u001b[32m    872\u001b[39m         handle = \u001b[38;5;28mopen\u001b[39m(handle, ioargs.mode)\n",
            "\u001b[31mFileNotFoundError\u001b[39m: [Errno 2] No such file or directory: 'DataSet\\\\Cleaned\\\\crypto_clean.csv'"
          ]
        }
      ],
      "source": [
        "import pandas as pd\n",
        "import numpy as np\n",
        "import matplotlib.pyplot as plt\n",
        "from pathlib import Path\n",
        "\n",
        "CLEAN = Path(\"DataSet/Cleaned/crypto_clean.csv\")\n",
        "REPORTS = Path(\"Reports\")\n",
        "REPORTS.mkdir(exist_ok=True)\n",
        "\n",
        "df = pd.read_csv(CLEAN, parse_dates=[\"Date\"]).sort_values([\"Symbol\",\"Date\"]).reset_index(drop=True)\n",
        "print(df.shape)\n",
        "df.head()"
      ]
    },
    {
      "cell_type": "markdown",
      "metadata": {
        "id": "ZY3l0-AxO93d"
      },
      "source": [
        "---"
      ]
    },
    {
      "cell_type": "markdown",
      "metadata": {
        "id": "uFQo3ycuO-v6"
      },
      "source": [
        "# Section 2"
      ]
    },
    {
      "cell_type": "markdown",
      "metadata": {},
      "source": [
        "Data Visualisations"
      ]
    },
    {
      "cell_type": "code",
      "execution_count": null,
      "metadata": {},
      "outputs": [
        {
          "name": "stdout",
          "output_type": "stream",
          "text": [
            "Window: 2020-10-14 → 2025-10-14\n"
          ]
        }
      ],
      "source": [
        "# Focusing on the past 5 years (~1826 days bull market every 4 years)\n",
        "\n",
        "cutoff = df[\"Date\"].max() - pd.Timedelta(days=1826)\n",
        "recent = df[df[\"Date\"] >= cutoff].copy()\n",
        "print(\"Window:\", cutoff.date(), \"→\", df[\"Date\"].max().date())\n"
      ]
    },
    {
      "cell_type": "code",
      "execution_count": null,
      "metadata": {},
      "outputs": [
        {
          "data": {
            "text/html": [
              "<div>\n",
              "<style scoped>\n",
              "    .dataframe tbody tr th:only-of-type {\n",
              "        vertical-align: middle;\n",
              "    }\n",
              "\n",
              "    .dataframe tbody tr th {\n",
              "        vertical-align: top;\n",
              "    }\n",
              "\n",
              "    .dataframe thead th {\n",
              "        text-align: right;\n",
              "    }\n",
              "</style>\n",
              "<table border=\"1\" class=\"dataframe\">\n",
              "  <thead>\n",
              "    <tr style=\"text-align: right;\">\n",
              "      <th></th>\n",
              "      <th>Symbol</th>\n",
              "      <th>Date</th>\n",
              "      <th>Close</th>\n",
              "      <th>ma_7</th>\n",
              "      <th>ma_30</th>\n",
              "      <th>rsi_14</th>\n",
              "      <th>macd_line</th>\n",
              "      <th>macd_signal</th>\n",
              "      <th>indication</th>\n",
              "    </tr>\n",
              "  </thead>\n",
              "  <tbody>\n",
              "    <tr>\n",
              "      <th>1778</th>\n",
              "      <td>BTC</td>\n",
              "      <td>2025-10-14</td>\n",
              "      <td>113196.600000</td>\n",
              "      <td>116360.514286</td>\n",
              "      <td>116217.613333</td>\n",
              "      <td>48.551510</td>\n",
              "      <td>207.126950</td>\n",
              "      <td>1094.169379</td>\n",
              "      <td>HOLD</td>\n",
              "    </tr>\n",
              "    <tr>\n",
              "      <th>3557</th>\n",
              "      <td>DOGE</td>\n",
              "      <td>2025-10-14</td>\n",
              "      <td>0.203692</td>\n",
              "      <td>0.214987</td>\n",
              "      <td>0.243295</td>\n",
              "      <td>42.942782</td>\n",
              "      <td>-0.010099</td>\n",
              "      <td>-0.004658</td>\n",
              "      <td>HOLD</td>\n",
              "    </tr>\n",
              "    <tr>\n",
              "      <th>5336</th>\n",
              "      <td>ETH</td>\n",
              "      <td>2025-10-14</td>\n",
              "      <td>4120.361000</td>\n",
              "      <td>4161.532429</td>\n",
              "      <td>4305.003700</td>\n",
              "      <td>49.254076</td>\n",
              "      <td>-52.798346</td>\n",
              "      <td>-23.064990</td>\n",
              "      <td>HOLD</td>\n",
              "    </tr>\n",
              "    <tr>\n",
              "      <th>7115</th>\n",
              "      <td>HBAR</td>\n",
              "      <td>2025-10-14</td>\n",
              "      <td>0.188223</td>\n",
              "      <td>0.189973</td>\n",
              "      <td>0.217411</td>\n",
              "      <td>40.498780</td>\n",
              "      <td>-0.011314</td>\n",
              "      <td>-0.008276</td>\n",
              "      <td>HOLD</td>\n",
              "    </tr>\n",
              "    <tr>\n",
              "      <th>8894</th>\n",
              "      <td>QNT</td>\n",
              "      <td>2025-10-14</td>\n",
              "      <td>89.724840</td>\n",
              "      <td>93.250864</td>\n",
              "      <td>98.301562</td>\n",
              "      <td>35.787155</td>\n",
              "      <td>-2.500649</td>\n",
              "      <td>-1.206625</td>\n",
              "      <td>HOLD</td>\n",
              "    </tr>\n",
              "    <tr>\n",
              "      <th>10673</th>\n",
              "      <td>SOL</td>\n",
              "      <td>2025-10-14</td>\n",
              "      <td>201.350700</td>\n",
              "      <td>203.800900</td>\n",
              "      <td>219.527010</td>\n",
              "      <td>47.036943</td>\n",
              "      <td>-4.741334</td>\n",
              "      <td>-1.780827</td>\n",
              "      <td>HOLD</td>\n",
              "    </tr>\n",
              "    <tr>\n",
              "      <th>12406</th>\n",
              "      <td>XDC</td>\n",
              "      <td>2025-10-14</td>\n",
              "      <td>0.060637</td>\n",
              "      <td>0.065003</td>\n",
              "      <td>0.072856</td>\n",
              "      <td>29.709337</td>\n",
              "      <td>-0.003828</td>\n",
              "      <td>-0.002509</td>\n",
              "      <td>HOLD</td>\n",
              "    </tr>\n",
              "    <tr>\n",
              "      <th>14185</th>\n",
              "      <td>XLM</td>\n",
              "      <td>2025-10-14</td>\n",
              "      <td>0.336802</td>\n",
              "      <td>0.345948</td>\n",
              "      <td>0.373930</td>\n",
              "      <td>44.441987</td>\n",
              "      <td>-0.010889</td>\n",
              "      <td>-0.005579</td>\n",
              "      <td>HOLD</td>\n",
              "    </tr>\n",
              "    <tr>\n",
              "      <th>15961</th>\n",
              "      <td>XRP</td>\n",
              "      <td>2025-10-14</td>\n",
              "      <td>2.496800</td>\n",
              "      <td>2.584217</td>\n",
              "      <td>2.855237</td>\n",
              "      <td>37.594345</td>\n",
              "      <td>-0.109110</td>\n",
              "      <td>-0.066034</td>\n",
              "      <td>HOLD</td>\n",
              "    </tr>\n",
              "  </tbody>\n",
              "</table>\n",
              "</div>"
            ],
            "text/plain": [
              "      Symbol       Date          Close           ma_7          ma_30  \\\n",
              "1778     BTC 2025-10-14  113196.600000  116360.514286  116217.613333   \n",
              "3557    DOGE 2025-10-14       0.203692       0.214987       0.243295   \n",
              "5336     ETH 2025-10-14    4120.361000    4161.532429    4305.003700   \n",
              "7115    HBAR 2025-10-14       0.188223       0.189973       0.217411   \n",
              "8894     QNT 2025-10-14      89.724840      93.250864      98.301562   \n",
              "10673    SOL 2025-10-14     201.350700     203.800900     219.527010   \n",
              "12406    XDC 2025-10-14       0.060637       0.065003       0.072856   \n",
              "14185    XLM 2025-10-14       0.336802       0.345948       0.373930   \n",
              "15961    XRP 2025-10-14       2.496800       2.584217       2.855237   \n",
              "\n",
              "          rsi_14   macd_line  macd_signal indication  \n",
              "1778   48.551510  207.126950  1094.169379       HOLD  \n",
              "3557   42.942782   -0.010099    -0.004658       HOLD  \n",
              "5336   49.254076  -52.798346   -23.064990       HOLD  \n",
              "7115   40.498780   -0.011314    -0.008276       HOLD  \n",
              "8894   35.787155   -2.500649    -1.206625       HOLD  \n",
              "10673  47.036943   -4.741334    -1.780827       HOLD  \n",
              "12406  29.709337   -0.003828    -0.002509       HOLD  \n",
              "14185  44.441987   -0.010889    -0.005579       HOLD  \n",
              "15961  37.594345   -0.109110    -0.066034       HOLD  "
            ]
          },
          "execution_count": 9,
          "metadata": {},
          "output_type": "execute_result"
        }
      ],
      "source": [
        "# Daily indication (BUY / HOLD / SELL)\n",
        "\n",
        "def add_indication(g: pd.DataFrame) -> pd.DataFrame:\n",
        "    g = g.copy()\n",
        "    g[\"trend_up\"] = g[\"ma_7\"] > g[\"ma_30\"]\n",
        "    g[\"macd_pos\"] = g[\"macd_line\"] > g[\"macd_signal\"]\n",
        "    buy  = g[\"trend_up\"] & g[\"macd_pos\"] & (g[\"rsi_14\"] < 60)\n",
        "    sell = (~g[\"trend_up\"]) & (~g[\"macd_pos\"]) & (g[\"rsi_14\"] > 50)\n",
        "    g[\"indication\"] = np.select([buy, sell], [\"BUY\", \"SELL\"], default=\"HOLD\")\n",
        "    return g\n",
        "\n",
        "recent = (recent.groupby(\"Symbol\", group_keys=False)\n",
        "                .apply(add_indication)\n",
        "                .reset_index(drop=True))\n",
        "\n",
        "# latest snapshot per coin (nice KPI table)\n",
        "latest = (recent.sort_values([\"Symbol\",\"Date\"])\n",
        "                .groupby(\"Symbol\")\n",
        "                .tail(1))[[\"Symbol\",\"Date\",\"Close\",\"ma_7\",\"ma_30\",\"rsi_14\",\"macd_line\",\"macd_signal\",\"indication\"]]\n",
        "latest.to_csv(REPORTS / \"viz_signal_snapshot_latest.csv\", index=False)\n",
        "latest\n"
      ]
    },
    {
      "cell_type": "code",
      "execution_count": 19,
      "metadata": {},
      "outputs": [
        {
          "name": "stdout",
          "output_type": "stream",
          "text": [
            "Coins: ['BTC', 'DOGE', 'ETH', 'HBAR', 'QNT', 'SOL', 'XDC', 'XLM', 'XRP']\n"
          ]
        }
      ],
      "source": [
        "try:\n",
        "    symbols = sorted(recent[\"Symbol\"].unique())\n",
        "except NameError:\n",
        "    # if 'recent' isn't defined yet, fall back to df (then recalc recent)\n",
        "    symbols = sorted(df[\"Symbol\"].unique())\n",
        "    cutoff = df[\"Date\"].max() - pd.Timedelta(days=365)\n",
        "    recent = df[df[\"Date\"] >= cutoff].copy()\n",
        "\n",
        "print(\"Coins:\", symbols)"
      ]
    },
    {
      "cell_type": "code",
      "execution_count": 20,
      "metadata": {},
      "outputs": [
        {
          "name": "stdout",
          "output_type": "stream",
          "text": [
            "Saved price + MA charts → Reports/\n"
          ]
        }
      ],
      "source": [
        "for sym in symbols:\n",
        "    g = recent[recent[\"Symbol\"]==sym]\n",
        "\n",
        "    plt.figure(figsize=(9,3.5))\n",
        "    plt.plot(g[\"Date\"], g[\"Close\"], label=\"Close\")\n",
        "    plt.plot(g[\"Date\"], g[\"ma_7\"],  label=\"MA 7\")\n",
        "    plt.plot(g[\"Date\"], g[\"ma_30\"], label=\"MA 30\")\n",
        "    plt.title(f\"{sym} — Price with MA(7/30)\")\n",
        "    plt.xlabel(\"Date\"); plt.ylabel(\"Price\")\n",
        "    plt.legend()\n",
        "    plt.tight_layout()\n",
        "    plt.savefig(REPORTS / f\"{sym}_price_ma.png\", dpi=160)\n",
        "    plt.close()\n",
        "print(\"Saved price + MA charts → Reports/\")\n"
      ]
    },
    {
      "cell_type": "code",
      "execution_count": 22,
      "metadata": {},
      "outputs": [
        {
          "name": "stdout",
          "output_type": "stream",
          "text": [
            "Saved MACD charts → Reports/\n"
          ]
        }
      ],
      "source": [
        "for sym in symbols:\n",
        "    g = recent[recent[\"Symbol\"]==sym]\n",
        "\n",
        "    # line & signal\n",
        "    plt.figure(figsize=(9,2.6))\n",
        "    plt.plot(g[\"Date\"], g[\"macd_line\"],   label=\"MACD line\")\n",
        "    plt.plot(g[\"Date\"], g[\"macd_signal\"], label=\"Signal\")\n",
        "    plt.title(f\"{sym} — MACD\")\n",
        "    plt.xlabel(\"Date\"); plt.ylabel(\"MACD\")\n",
        "    plt.legend()\n",
        "    plt.tight_layout()\n",
        "    plt.savefig(REPORTS / f\"{sym}_macd.png\", dpi=160)\n",
        "    plt.close()\n",
        "\n",
        "    # histogram\n",
        "    plt.figure(figsize=(9,2.2))\n",
        "    plt.bar(g[\"Date\"], g[\"macd_hist\"])\n",
        "    plt.title(f\"{sym} — MACD Histogram\")\n",
        "    plt.xlabel(\"Date\"); plt.ylabel(\"Hist\")\n",
        "    plt.tight_layout()\n",
        "    plt.savefig(REPORTS / f\"{sym}_macd_hist.png\", dpi=160)\n",
        "    plt.close()\n",
        "\n",
        "print(\"Saved MACD charts → Reports/\")\n"
      ]
    },
    {
      "cell_type": "code",
      "execution_count": 23,
      "metadata": {},
      "outputs": [
        {
          "name": "stdout",
          "output_type": "stream",
          "text": [
            "Saved RSI charts → Reports/\n"
          ]
        }
      ],
      "source": [
        "for sym in symbols:\n",
        "    g = recent[recent[\"Symbol\"]==sym]\n",
        "\n",
        "    plt.figure(figsize=(9,2.8))\n",
        "    plt.plot(g[\"Date\"], g[\"rsi_14\"], label=\"RSI(14)\")\n",
        "    # guide lines\n",
        "    plt.axhline(30, linestyle=\"--\")\n",
        "    plt.axhline(70, linestyle=\"--\")\n",
        "    plt.title(f\"{sym} — RSI(14)\")\n",
        "    plt.xlabel(\"Date\"); plt.ylabel(\"RSI\")\n",
        "    plt.tight_layout()\n",
        "    plt.savefig(REPORTS / f\"{sym}_rsi14.png\", dpi=160)\n",
        "    plt.close()\n",
        "\n",
        "print(\"Saved RSI charts → Reports/\")\n"
      ]
    },
    {
      "cell_type": "code",
      "execution_count": 24,
      "metadata": {},
      "outputs": [
        {
          "name": "stdout",
          "output_type": "stream",
          "text": [
            "Saving to: C:\\Users\\Nine\\OneDrive\\Documents\\Reports\n",
            "Files currently in Reports/:\n",
            " - BTC_macd.png\n",
            " - BTC_macd_hist.png\n",
            " - BTC_price_ma.png\n",
            " - BTC_rsi14.png\n",
            " - DOGE_macd.png\n",
            " - DOGE_macd_hist.png\n",
            " - DOGE_price_ma.png\n",
            " - DOGE_rsi14.png\n",
            " - ETH_macd.png\n",
            " - ETH_macd_hist.png\n",
            " - ETH_price_ma.png\n",
            " - ETH_rsi14.png\n",
            " - HBAR_macd.png\n",
            " - HBAR_macd_hist.png\n",
            " - HBAR_price_ma.png\n",
            " - HBAR_rsi14.png\n",
            " - QNT_macd.png\n",
            " - QNT_macd_hist.png\n",
            " - QNT_price_ma.png\n",
            " - QNT_rsi14.png\n",
            " - SOL_macd.png\n",
            " - SOL_macd_hist.png\n",
            " - SOL_price_ma.png\n",
            " - SOL_rsi14.png\n",
            " - XDC_macd.png\n",
            " - XDC_macd_hist.png\n",
            " - XDC_price_ma.png\n",
            " - XDC_rsi14.png\n",
            " - XLM_macd.png\n",
            " - XLM_macd_hist.png\n",
            " - XLM_price_ma.png\n",
            " - XLM_rsi14.png\n",
            " - XRP_macd.png\n",
            " - XRP_macd_hist.png\n",
            " - XRP_price_ma.png\n",
            " - XRP_rsi14.png\n"
          ]
        }
      ],
      "source": [
        "# error with saving path\n",
        "\n",
        "from pathlib import Path\n",
        "\n",
        "REPORTS = Path(\"reports\")  \n",
        "print(\"Saving to:\", REPORTS.resolve())\n",
        "REPORTS.mkdir(exist_ok=True)\n",
        "\n",
        "# List what’s there now\n",
        "print(\"Files currently in Reports/:\")\n",
        "for p in sorted(REPORTS.glob(\"*\")):\n",
        "    print(\" -\", p.name)\n"
      ]
    },
    {
      "cell_type": "code",
      "execution_count": 25,
      "metadata": {},
      "outputs": [
        {
          "name": "stdout",
          "output_type": "stream",
          "text": [
            "Symbols: ['BTC', 'DOGE', 'ETH', 'HBAR', 'QNT', 'SOL', 'XDC', 'XLM', 'XRP']\n",
            "Saved -> C:\\Users\\Nine\\OneDrive\\Documents\\Reports\\BTC_macd.png\n",
            "Saved -> C:\\Users\\Nine\\OneDrive\\Documents\\Reports\\BTC_macd_hist.png\n",
            "Saved -> C:\\Users\\Nine\\OneDrive\\Documents\\Reports\\DOGE_macd.png\n",
            "Saved -> C:\\Users\\Nine\\OneDrive\\Documents\\Reports\\DOGE_macd_hist.png\n",
            "Saved -> C:\\Users\\Nine\\OneDrive\\Documents\\Reports\\ETH_macd.png\n",
            "Saved -> C:\\Users\\Nine\\OneDrive\\Documents\\Reports\\ETH_macd_hist.png\n",
            "Saved -> C:\\Users\\Nine\\OneDrive\\Documents\\Reports\\HBAR_macd.png\n",
            "Saved -> C:\\Users\\Nine\\OneDrive\\Documents\\Reports\\HBAR_macd_hist.png\n",
            "Saved -> C:\\Users\\Nine\\OneDrive\\Documents\\Reports\\QNT_macd.png\n",
            "Saved -> C:\\Users\\Nine\\OneDrive\\Documents\\Reports\\QNT_macd_hist.png\n",
            "Saved -> C:\\Users\\Nine\\OneDrive\\Documents\\Reports\\SOL_macd.png\n",
            "Saved -> C:\\Users\\Nine\\OneDrive\\Documents\\Reports\\SOL_macd_hist.png\n",
            "Saved -> C:\\Users\\Nine\\OneDrive\\Documents\\Reports\\XDC_macd.png\n",
            "Saved -> C:\\Users\\Nine\\OneDrive\\Documents\\Reports\\XDC_macd_hist.png\n",
            "Saved -> C:\\Users\\Nine\\OneDrive\\Documents\\Reports\\XLM_macd.png\n",
            "Saved -> C:\\Users\\Nine\\OneDrive\\Documents\\Reports\\XLM_macd_hist.png\n",
            "Saved -> C:\\Users\\Nine\\OneDrive\\Documents\\Reports\\XRP_macd.png\n",
            "Saved -> C:\\Users\\Nine\\OneDrive\\Documents\\Reports\\XRP_macd_hist.png\n",
            "Saved -> C:\\Users\\Nine\\OneDrive\\Documents\\Reports\\BTC_rsi14.png\n",
            "Saved -> C:\\Users\\Nine\\OneDrive\\Documents\\Reports\\DOGE_rsi14.png\n",
            "Saved -> C:\\Users\\Nine\\OneDrive\\Documents\\Reports\\ETH_rsi14.png\n",
            "Saved -> C:\\Users\\Nine\\OneDrive\\Documents\\Reports\\HBAR_rsi14.png\n",
            "Saved -> C:\\Users\\Nine\\OneDrive\\Documents\\Reports\\QNT_rsi14.png\n",
            "Saved -> C:\\Users\\Nine\\OneDrive\\Documents\\Reports\\SOL_rsi14.png\n",
            "Saved -> C:\\Users\\Nine\\OneDrive\\Documents\\Reports\\XDC_rsi14.png\n",
            "Saved -> C:\\Users\\Nine\\OneDrive\\Documents\\Reports\\XLM_rsi14.png\n",
            "Saved -> C:\\Users\\Nine\\OneDrive\\Documents\\Reports\\XRP_rsi14.png\n"
          ]
        }
      ],
      "source": [
        "\n",
        "# These must already exist from earlier cells\n",
        "assert \"recent\" in globals(), \"recent DataFrame is missing. Re-run the earlier cells.\"\n",
        "symbols = sorted(recent[\"Symbol\"].unique())\n",
        "print(\"Symbols:\", symbols)\n",
        "\n",
        "def save_plot(path):\n",
        "    plt.tight_layout()\n",
        "    plt.savefig(path, dpi=160)\n",
        "    plt.close()\n",
        "    print(\"Saved ->\", Path(path).resolve())\n",
        "\n",
        "# ----- MACD (line + signal) -----\n",
        "for sym in symbols:\n",
        "    g = recent[recent[\"Symbol\"]==sym]\n",
        "    try:\n",
        "        plt.figure(figsize=(9,2.6))\n",
        "        plt.plot(g[\"Date\"], g[\"macd_line\"],   label=\"MACD line\")\n",
        "        plt.plot(g[\"Date\"], g[\"macd_signal\"], label=\"Signal\")\n",
        "        plt.title(f\"{sym} — MACD\")\n",
        "        plt.xlabel(\"Date\"); plt.ylabel(\"MACD\"); plt.legend()\n",
        "        save_plot(REPORTS / f\"{sym}_macd.png\")\n",
        "\n",
        "        plt.figure(figsize=(9,2.2))\n",
        "        plt.bar(g[\"Date\"], g[\"macd_hist\"])\n",
        "        plt.title(f\"{sym} — MACD Histogram\")\n",
        "        plt.xlabel(\"Date\"); plt.ylabel(\"Hist\")\n",
        "        save_plot(REPORTS / f\"{sym}_macd_hist.png\")\n",
        "    except Exception as e:\n",
        "        print(f\"[MACD ERROR] {sym}: {e}\")\n",
        "\n",
        "# ----- RSI(14) -----\n",
        "for sym in symbols:\n",
        "    g = recent[recent[\"Symbol\"]==sym]\n",
        "    try:\n",
        "        plt.figure(figsize=(9,2.8))\n",
        "        plt.plot(g[\"Date\"], g[\"rsi_14\"], label=\"RSI(14)\")\n",
        "        plt.axhline(30, linestyle=\"--\"); plt.axhline(70, linestyle=\"--\")\n",
        "        plt.title(f\"{sym} — RSI(14)\")\n",
        "        plt.xlabel(\"Date\"); plt.ylabel(\"RSI\")\n",
        "        save_plot(REPORTS / f\"{sym}_rsi14.png\")\n",
        "    except Exception as e:\n",
        "        print(f\"[RSI ERROR] {sym}: {e}\")\n"
      ]
    },
    {
      "cell_type": "markdown",
      "metadata": {},
      "source": [
        "---"
      ]
    },
    {
      "cell_type": "markdown",
      "metadata": {},
      "source": [
        "---"
      ]
    }
  ],
  "metadata": {
    "accelerator": "GPU",
    "colab": {
      "name": "Data Practitioner Jupyter Notebook.ipynb",
      "provenance": [],
      "toc_visible": true
    },
    "kernelspec": {
      "display_name": ".venv",
      "language": "python",
      "name": "python3"
    },
    "language_info": {
      "codemirror_mode": {
        "name": "ipython",
        "version": 3
      },
      "file_extension": ".py",
      "mimetype": "text/x-python",
      "name": "python",
      "nbconvert_exporter": "python",
      "pygments_lexer": "ipython3",
      "version": "3.12.8"
    },
    "orig_nbformat": 2
  },
  "nbformat": 4,
  "nbformat_minor": 2
}
