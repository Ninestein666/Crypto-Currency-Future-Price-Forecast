{
  "cells": [
    {
      "cell_type": "markdown",
      "metadata": {
        "id": "0aStgWSO0E0E"
      },
      "source": [
        "# **(Crypto Currency Future Price Forecast EDA)**"
      ]
    },
    {
      "cell_type": "markdown",
      "metadata": {
        "id": "1eLEkw5O0ECa"
      },
      "source": [
        "## Objectives\n",
        "\n",
        "- Load raw cryptocurrency data from CSV files\n",
        "- Perform exploratory data analysis (EDA) to uncover insights\n",
        "- Load my single cleaned dataset: DataSet/Cleaned/crypto_clean.csv.\n",
        "- Check shape, coins, date ranges, duplicates\n",
        "- Look at recent behaviour (last 365 days): returns, risk (volatility/ATR), relationships (correlations).\n",
        "- Create a signal snapshot (Buy / Hold / Sell indications) based on RSI/MACD/MA trend.\n",
        "- Save tidy tables to Reports/ for my README and dashboard.\n"
      ]
    },
    {
      "cell_type": "markdown",
      "metadata": {
        "id": "9uWZXH9LwoQg"
      },
      "source": [
        "---"
      ]
    },
    {
      "cell_type": "markdown",
      "metadata": {
        "id": "cqP-UeN-z3i2"
      },
      "source": [
        "# Change working directory"
      ]
    },
    {
      "cell_type": "markdown",
      "metadata": {},
      "source": [
        "* We are assuming you will store the notebooks in a subfolder, therefore when running the notebook in the editor, you will need to change the working directory"
      ]
    },
    {
      "cell_type": "markdown",
      "metadata": {
        "id": "aOGIGS-uz3i2"
      },
      "source": [
        "We need to change the working directory from its current folder to its parent folder\n",
        "* We access the current directory with os.getcwd()"
      ]
    },
    {
      "cell_type": "code",
      "execution_count": 1,
      "metadata": {
        "id": "wZfF_j-Bz3i4",
        "outputId": "66943449-1436-4c3d-85c7-b85f9f78349b"
      },
      "outputs": [
        {
          "data": {
            "text/plain": [
              "'c:\\\\Users\\\\Nine\\\\OneDrive\\\\Documents\\\\VS Code Projects\\\\Crypto-Currency-Future-Price-Forecast\\\\jupyter_notebooks'"
            ]
          },
          "execution_count": 1,
          "metadata": {},
          "output_type": "execute_result"
        }
      ],
      "source": [
        "import os\n",
        "current_dir = os.getcwd()\n",
        "current_dir"
      ]
    },
    {
      "cell_type": "markdown",
      "metadata": {
        "id": "9MWW8E7lz3i7"
      },
      "source": [
        "We want to make the parent of the current directory the new current directory\n",
        "* os.path.dirname() gets the parent directory\n",
        "* os.chir() defines the new current directory"
      ]
    },
    {
      "cell_type": "code",
      "execution_count": 2,
      "metadata": {
        "id": "TwHsQRWjz3i9",
        "outputId": "86849db3-cd2f-4cc5-ebb8-2d0caafa1a2c"
      },
      "outputs": [
        {
          "name": "stdout",
          "output_type": "stream",
          "text": [
            "You set a new current directory\n"
          ]
        }
      ],
      "source": [
        "os.chdir(os.path.dirname(current_dir))\n",
        "print(\"You set a new current directory\")"
      ]
    },
    {
      "cell_type": "markdown",
      "metadata": {
        "id": "M_xPk_Ijz3i-"
      },
      "source": [
        "Confirm the new current directory"
      ]
    },
    {
      "cell_type": "code",
      "execution_count": 3,
      "metadata": {
        "id": "vz3S-_kjz3jA",
        "outputId": "00b79ae4-75d0-4a96-d193-ac9ef9847ea2"
      },
      "outputs": [
        {
          "data": {
            "text/plain": [
              "'c:\\\\Users\\\\Nine\\\\OneDrive\\\\Documents\\\\VS Code Projects\\\\Crypto-Currency-Future-Price-Forecast'"
            ]
          },
          "execution_count": 3,
          "metadata": {},
          "output_type": "execute_result"
        }
      ],
      "source": [
        "current_dir = os.getcwd()\n",
        "current_dir"
      ]
    },
    {
      "cell_type": "markdown",
      "metadata": {
        "id": "-mavJ8DibrcQ"
      },
      "source": [
        "# Section 1"
      ]
    },
    {
      "cell_type": "markdown",
      "metadata": {},
      "source": [
        "Load Libraries and Data"
      ]
    },
    {
      "cell_type": "code",
      "execution_count": 4,
      "metadata": {},
      "outputs": [],
      "source": [
        "import pandas as pd\n",
        "import numpy as np\n",
        "from pathlib import Path\n",
        "import matplotlib.pyplot as plt\n",
        "import seaborn as sns\n",
        "\n"
      ]
    },
    {
      "cell_type": "markdown",
      "metadata": {
        "id": "ZY3l0-AxO93d"
      },
      "source": [
        "---"
      ]
    },
    {
      "cell_type": "markdown",
      "metadata": {
        "id": "uFQo3ycuO-v6"
      },
      "source": [
        "# Section 2"
      ]
    },
    {
      "cell_type": "markdown",
      "metadata": {},
      "source": [
        "---"
      ]
    },
    {
      "cell_type": "code",
      "execution_count": 5,
      "metadata": {},
      "outputs": [
        {
          "name": "stdout",
          "output_type": "stream",
          "text": [
            "(27898, 18)\n"
          ]
        },
        {
          "data": {
            "text/html": [
              "<div>\n",
              "<style scoped>\n",
              "    .dataframe tbody tr th:only-of-type {\n",
              "        vertical-align: middle;\n",
              "    }\n",
              "\n",
              "    .dataframe tbody tr th {\n",
              "        vertical-align: top;\n",
              "    }\n",
              "\n",
              "    .dataframe thead th {\n",
              "        text-align: right;\n",
              "    }\n",
              "</style>\n",
              "<table border=\"1\" class=\"dataframe\">\n",
              "  <thead>\n",
              "    <tr style=\"text-align: right;\">\n",
              "      <th></th>\n",
              "      <th>Symbol</th>\n",
              "      <th>Date</th>\n",
              "      <th>Open</th>\n",
              "      <th>High</th>\n",
              "      <th>Low</th>\n",
              "      <th>Close</th>\n",
              "      <th>return_1d</th>\n",
              "      <th>ma_7</th>\n",
              "      <th>ma_30</th>\n",
              "      <th>rsi_14</th>\n",
              "      <th>macd_line</th>\n",
              "      <th>macd_signal</th>\n",
              "      <th>macd_hist</th>\n",
              "      <th>bb_ma20</th>\n",
              "      <th>bb_upper</th>\n",
              "      <th>bb_lower</th>\n",
              "      <th>bb_width</th>\n",
              "      <th>atr_14</th>\n",
              "    </tr>\n",
              "  </thead>\n",
              "  <tbody>\n",
              "    <tr>\n",
              "      <th>0</th>\n",
              "      <td>BTC</td>\n",
              "      <td>2010-07-17</td>\n",
              "      <td>0.04951</td>\n",
              "      <td>0.04951</td>\n",
              "      <td>0.04951</td>\n",
              "      <td>0.04951</td>\n",
              "      <td>NaN</td>\n",
              "      <td>NaN</td>\n",
              "      <td>NaN</td>\n",
              "      <td>NaN</td>\n",
              "      <td>0.000000</td>\n",
              "      <td>0.000000</td>\n",
              "      <td>0.000000</td>\n",
              "      <td>NaN</td>\n",
              "      <td>NaN</td>\n",
              "      <td>NaN</td>\n",
              "      <td>NaN</td>\n",
              "      <td>NaN</td>\n",
              "    </tr>\n",
              "    <tr>\n",
              "      <th>1</th>\n",
              "      <td>BTC</td>\n",
              "      <td>2010-07-18</td>\n",
              "      <td>0.04951</td>\n",
              "      <td>0.08585</td>\n",
              "      <td>0.04951</td>\n",
              "      <td>0.08584</td>\n",
              "      <td>0.733791</td>\n",
              "      <td>NaN</td>\n",
              "      <td>NaN</td>\n",
              "      <td>NaN</td>\n",
              "      <td>0.002898</td>\n",
              "      <td>0.000580</td>\n",
              "      <td>0.002318</td>\n",
              "      <td>NaN</td>\n",
              "      <td>NaN</td>\n",
              "      <td>NaN</td>\n",
              "      <td>NaN</td>\n",
              "      <td>NaN</td>\n",
              "    </tr>\n",
              "    <tr>\n",
              "      <th>2</th>\n",
              "      <td>BTC</td>\n",
              "      <td>2010-07-19</td>\n",
              "      <td>0.08584</td>\n",
              "      <td>0.09307</td>\n",
              "      <td>0.07723</td>\n",
              "      <td>0.08080</td>\n",
              "      <td>-0.058714</td>\n",
              "      <td>0.072050</td>\n",
              "      <td>NaN</td>\n",
              "      <td>NaN</td>\n",
              "      <td>0.004734</td>\n",
              "      <td>0.001410</td>\n",
              "      <td>0.003323</td>\n",
              "      <td>NaN</td>\n",
              "      <td>NaN</td>\n",
              "      <td>NaN</td>\n",
              "      <td>NaN</td>\n",
              "      <td>NaN</td>\n",
              "    </tr>\n",
              "    <tr>\n",
              "      <th>3</th>\n",
              "      <td>BTC</td>\n",
              "      <td>2010-07-20</td>\n",
              "      <td>0.08080</td>\n",
              "      <td>0.08181</td>\n",
              "      <td>0.07426</td>\n",
              "      <td>0.07474</td>\n",
              "      <td>-0.075000</td>\n",
              "      <td>0.072722</td>\n",
              "      <td>NaN</td>\n",
              "      <td>NaN</td>\n",
              "      <td>0.005634</td>\n",
              "      <td>0.002255</td>\n",
              "      <td>0.003379</td>\n",
              "      <td>NaN</td>\n",
              "      <td>NaN</td>\n",
              "      <td>NaN</td>\n",
              "      <td>NaN</td>\n",
              "      <td>NaN</td>\n",
              "    </tr>\n",
              "    <tr>\n",
              "      <th>4</th>\n",
              "      <td>BTC</td>\n",
              "      <td>2010-07-21</td>\n",
              "      <td>0.07474</td>\n",
              "      <td>0.07921</td>\n",
              "      <td>0.06634</td>\n",
              "      <td>0.07921</td>\n",
              "      <td>0.059807</td>\n",
              "      <td>0.074020</td>\n",
              "      <td>NaN</td>\n",
              "      <td>NaN</td>\n",
              "      <td>0.006632</td>\n",
              "      <td>0.003131</td>\n",
              "      <td>0.003502</td>\n",
              "      <td>NaN</td>\n",
              "      <td>NaN</td>\n",
              "      <td>NaN</td>\n",
              "      <td>NaN</td>\n",
              "      <td>NaN</td>\n",
              "    </tr>\n",
              "  </tbody>\n",
              "</table>\n",
              "</div>"
            ],
            "text/plain": [
              "  Symbol       Date     Open     High      Low    Close  return_1d      ma_7  \\\n",
              "0    BTC 2010-07-17  0.04951  0.04951  0.04951  0.04951        NaN       NaN   \n",
              "1    BTC 2010-07-18  0.04951  0.08585  0.04951  0.08584   0.733791       NaN   \n",
              "2    BTC 2010-07-19  0.08584  0.09307  0.07723  0.08080  -0.058714  0.072050   \n",
              "3    BTC 2010-07-20  0.08080  0.08181  0.07426  0.07474  -0.075000  0.072722   \n",
              "4    BTC 2010-07-21  0.07474  0.07921  0.06634  0.07921   0.059807  0.074020   \n",
              "\n",
              "   ma_30  rsi_14  macd_line  macd_signal  macd_hist  bb_ma20  bb_upper  \\\n",
              "0    NaN     NaN   0.000000     0.000000   0.000000      NaN       NaN   \n",
              "1    NaN     NaN   0.002898     0.000580   0.002318      NaN       NaN   \n",
              "2    NaN     NaN   0.004734     0.001410   0.003323      NaN       NaN   \n",
              "3    NaN     NaN   0.005634     0.002255   0.003379      NaN       NaN   \n",
              "4    NaN     NaN   0.006632     0.003131   0.003502      NaN       NaN   \n",
              "\n",
              "   bb_lower  bb_width  atr_14  \n",
              "0       NaN       NaN     NaN  \n",
              "1       NaN       NaN     NaN  \n",
              "2       NaN       NaN     NaN  \n",
              "3       NaN       NaN     NaN  \n",
              "4       NaN       NaN     NaN  "
            ]
          },
          "execution_count": 5,
          "metadata": {},
          "output_type": "execute_result"
        }
      ],
      "source": [
        "# Load data from csv files\n",
        "\n",
        "CLEAN = Path(\"DataSet/Cleaned/crypto_clean.csv\")\n",
        "REPORTS = Path(\"Reports\")\n",
        "REPORTS.mkdir(exist_ok=True)\n",
        "\n",
        "df = pd.read_csv(CLEAN, parse_dates=[\"Date\"]).sort_values([\"Symbol\",\"Date\"]).reset_index(drop=True)\n",
        "print(df.shape)\n",
        "df.head()"
      ]
    },
    {
      "cell_type": "code",
      "execution_count": 6,
      "metadata": {},
      "outputs": [
        {
          "name": "stdout",
          "output_type": "stream",
          "text": [
            "Coins: ['BTC', 'DOGE', 'ETH', 'HBAR', 'QNT', 'SOL', 'XDC', 'XLM', 'XRP']\n"
          ]
        },
        {
          "data": {
            "text/html": [
              "<div>\n",
              "<style scoped>\n",
              "    .dataframe tbody tr th:only-of-type {\n",
              "        vertical-align: middle;\n",
              "    }\n",
              "\n",
              "    .dataframe tbody tr th {\n",
              "        vertical-align: top;\n",
              "    }\n",
              "\n",
              "    .dataframe thead th {\n",
              "        text-align: right;\n",
              "    }\n",
              "</style>\n",
              "<table border=\"1\" class=\"dataframe\">\n",
              "  <thead>\n",
              "    <tr style=\"text-align: right;\">\n",
              "      <th></th>\n",
              "      <th>Symbol</th>\n",
              "      <th>first_date</th>\n",
              "      <th>last_date</th>\n",
              "      <th>rows</th>\n",
              "    </tr>\n",
              "  </thead>\n",
              "  <tbody>\n",
              "    <tr>\n",
              "      <th>0</th>\n",
              "      <td>BTC</td>\n",
              "      <td>2010-07-17</td>\n",
              "      <td>2025-10-14</td>\n",
              "      <td>5521</td>\n",
              "    </tr>\n",
              "    <tr>\n",
              "      <th>1</th>\n",
              "      <td>DOGE</td>\n",
              "      <td>2016-07-01</td>\n",
              "      <td>2025-10-14</td>\n",
              "      <td>3345</td>\n",
              "    </tr>\n",
              "    <tr>\n",
              "      <th>2</th>\n",
              "      <td>ETH</td>\n",
              "      <td>2015-08-07</td>\n",
              "      <td>2025-10-14</td>\n",
              "      <td>3674</td>\n",
              "    </tr>\n",
              "    <tr>\n",
              "      <th>3</th>\n",
              "      <td>HBAR</td>\n",
              "      <td>2019-09-20</td>\n",
              "      <td>2025-10-14</td>\n",
              "      <td>2169</td>\n",
              "    </tr>\n",
              "    <tr>\n",
              "      <th>4</th>\n",
              "      <td>QNT</td>\n",
              "      <td>2019-02-05</td>\n",
              "      <td>2025-10-14</td>\n",
              "      <td>2396</td>\n",
              "    </tr>\n",
              "    <tr>\n",
              "      <th>5</th>\n",
              "      <td>SOL</td>\n",
              "      <td>2020-04-10</td>\n",
              "      <td>2025-10-14</td>\n",
              "      <td>1966</td>\n",
              "    </tr>\n",
              "    <tr>\n",
              "      <th>6</th>\n",
              "      <td>XDC</td>\n",
              "      <td>2020-04-02</td>\n",
              "      <td>2025-10-14</td>\n",
              "      <td>1813</td>\n",
              "    </tr>\n",
              "    <tr>\n",
              "      <th>7</th>\n",
              "      <td>XLM</td>\n",
              "      <td>2017-01-17</td>\n",
              "      <td>2025-10-14</td>\n",
              "      <td>3145</td>\n",
              "    </tr>\n",
              "    <tr>\n",
              "      <th>8</th>\n",
              "      <td>XRP</td>\n",
              "      <td>2015-01-21</td>\n",
              "      <td>2025-10-14</td>\n",
              "      <td>3869</td>\n",
              "    </tr>\n",
              "  </tbody>\n",
              "</table>\n",
              "</div>"
            ],
            "text/plain": [
              "  Symbol first_date  last_date  rows\n",
              "0    BTC 2010-07-17 2025-10-14  5521\n",
              "1   DOGE 2016-07-01 2025-10-14  3345\n",
              "2    ETH 2015-08-07 2025-10-14  3674\n",
              "3   HBAR 2019-09-20 2025-10-14  2169\n",
              "4    QNT 2019-02-05 2025-10-14  2396\n",
              "5    SOL 2020-04-10 2025-10-14  1966\n",
              "6    XDC 2020-04-02 2025-10-14  1813\n",
              "7    XLM 2017-01-17 2025-10-14  3145\n",
              "8    XRP 2015-01-21 2025-10-14  3869"
            ]
          },
          "execution_count": 6,
          "metadata": {},
          "output_type": "execute_result"
        }
      ],
      "source": [
        "# Validation check\n",
        "\n",
        "\n",
        "print(\"Coins:\", sorted(df[\"Symbol\"].unique()))\n",
        "\n",
        "# Coverage table\n",
        "coverage = (df.groupby(\"Symbol\")\n",
        "              .agg(first_date=(\"Date\",\"min\"),\n",
        "                   last_date=(\"Date\",\"max\"),\n",
        "                   rows=(\"Date\",\"count\"))\n",
        "              .reset_index())\n",
        "coverage\n"
      ]
    },
    {
      "cell_type": "code",
      "execution_count": 7,
      "metadata": {},
      "outputs": [
        {
          "name": "stdout",
          "output_type": "stream",
          "text": [
            "Duplicate (Symbol,Date) rows: 0\n"
          ]
        }
      ],
      "source": [
        "# Duplicates check\n",
        "\n",
        "# Duplicates check on (Symbol, Date)\n",
        "dups = df.duplicated(subset=[\"Symbol\",\"Date\"]).sum()\n",
        "print(\"Duplicate (Symbol,Date) rows:\", dups)"
      ]
    },
    {
      "cell_type": "code",
      "execution_count": 8,
      "metadata": {},
      "outputs": [
        {
          "name": "stdout",
          "output_type": "stream",
          "text": [
            "Recent window: 2020-10-14 to 2025-10-14\n"
          ]
        }
      ],
      "source": [
        "# Gather data from the last 1826 days (5 years to include previous bull market)\n",
        "\n",
        "\n",
        "cutoff = df[\"Date\"].max() - pd.Timedelta(days=1826)  # 5 years\n",
        "recent = df[df[\"Date\"] >= cutoff].copy()\n",
        "print(\"Recent window:\", cutoff.date(), \"to\", df[\"Date\"].max().date())"
      ]
    },
    {
      "cell_type": "code",
      "execution_count": 9,
      "metadata": {},
      "outputs": [
        {
          "data": {
            "text/html": [
              "<div>\n",
              "<style scoped>\n",
              "    .dataframe tbody tr th:only-of-type {\n",
              "        vertical-align: middle;\n",
              "    }\n",
              "\n",
              "    .dataframe tbody tr th {\n",
              "        vertical-align: top;\n",
              "    }\n",
              "\n",
              "    .dataframe thead th {\n",
              "        text-align: right;\n",
              "    }\n",
              "</style>\n",
              "<table border=\"1\" class=\"dataframe\">\n",
              "  <thead>\n",
              "    <tr style=\"text-align: right;\">\n",
              "      <th></th>\n",
              "      <th>Symbol</th>\n",
              "      <th>count</th>\n",
              "      <th>mean</th>\n",
              "      <th>std</th>\n",
              "      <th>min</th>\n",
              "      <th>median</th>\n",
              "      <th>max</th>\n",
              "      <th>avg_atr14</th>\n",
              "      <th>avg_bb_width</th>\n",
              "    </tr>\n",
              "  </thead>\n",
              "  <tbody>\n",
              "    <tr>\n",
              "      <th>0</th>\n",
              "      <td>DOGE</td>\n",
              "      <td>1779</td>\n",
              "      <td>0.005439</td>\n",
              "      <td>0.094605</td>\n",
              "      <td>-0.384645</td>\n",
              "      <td>-0.000836</td>\n",
              "      <td>2.565113</td>\n",
              "      <td>0.013072</td>\n",
              "      <td>0.392171</td>\n",
              "    </tr>\n",
              "    <tr>\n",
              "      <th>1</th>\n",
              "      <td>SOL</td>\n",
              "      <td>1779</td>\n",
              "      <td>0.004393</td>\n",
              "      <td>0.061933</td>\n",
              "      <td>-0.444644</td>\n",
              "      <td>0.000408</td>\n",
              "      <td>0.373539</td>\n",
              "      <td>6.944898</td>\n",
              "      <td>0.404182</td>\n",
              "    </tr>\n",
              "    <tr>\n",
              "      <th>2</th>\n",
              "      <td>XDC</td>\n",
              "      <td>1733</td>\n",
              "      <td>0.003223</td>\n",
              "      <td>0.059951</td>\n",
              "      <td>-0.218544</td>\n",
              "      <td>-0.002301</td>\n",
              "      <td>0.798140</td>\n",
              "      <td>0.003911</td>\n",
              "      <td>0.329802</td>\n",
              "    </tr>\n",
              "    <tr>\n",
              "      <th>3</th>\n",
              "      <td>XRP</td>\n",
              "      <td>1776</td>\n",
              "      <td>0.002822</td>\n",
              "      <td>0.057136</td>\n",
              "      <td>-0.415469</td>\n",
              "      <td>0.000016</td>\n",
              "      <td>0.685225</td>\n",
              "      <td>0.065648</td>\n",
              "      <td>0.318762</td>\n",
              "    </tr>\n",
              "    <tr>\n",
              "      <th>4</th>\n",
              "      <td>QNT</td>\n",
              "      <td>1779</td>\n",
              "      <td>0.002795</td>\n",
              "      <td>0.058849</td>\n",
              "      <td>-0.306665</td>\n",
              "      <td>-0.001711</td>\n",
              "      <td>0.841367</td>\n",
              "      <td>8.647304</td>\n",
              "      <td>0.324718</td>\n",
              "    </tr>\n",
              "    <tr>\n",
              "      <th>5</th>\n",
              "      <td>HBAR</td>\n",
              "      <td>1779</td>\n",
              "      <td>0.002558</td>\n",
              "      <td>0.058197</td>\n",
              "      <td>-0.251430</td>\n",
              "      <td>-0.001656</td>\n",
              "      <td>0.459800</td>\n",
              "      <td>0.013156</td>\n",
              "      <td>0.343577</td>\n",
              "    </tr>\n",
              "    <tr>\n",
              "      <th>6</th>\n",
              "      <td>ETH</td>\n",
              "      <td>1779</td>\n",
              "      <td>0.002186</td>\n",
              "      <td>0.041280</td>\n",
              "      <td>-0.236596</td>\n",
              "      <td>0.000994</td>\n",
              "      <td>0.285306</td>\n",
              "      <td>137.841740</td>\n",
              "      <td>0.271518</td>\n",
              "    </tr>\n",
              "    <tr>\n",
              "      <th>7</th>\n",
              "      <td>XLM</td>\n",
              "      <td>1779</td>\n",
              "      <td>0.002170</td>\n",
              "      <td>0.053625</td>\n",
              "      <td>-0.261418</td>\n",
              "      <td>-0.000556</td>\n",
              "      <td>0.586032</td>\n",
              "      <td>0.016627</td>\n",
              "      <td>0.303975</td>\n",
              "    </tr>\n",
              "    <tr>\n",
              "      <th>8</th>\n",
              "      <td>BTC</td>\n",
              "      <td>1779</td>\n",
              "      <td>0.001760</td>\n",
              "      <td>0.030738</td>\n",
              "      <td>-0.157450</td>\n",
              "      <td>0.000427</td>\n",
              "      <td>0.150395</td>\n",
              "      <td>2085.338517</td>\n",
              "      <td>0.204650</td>\n",
              "    </tr>\n",
              "  </tbody>\n",
              "</table>\n",
              "</div>"
            ],
            "text/plain": [
              "  Symbol  count      mean       std       min    median       max  \\\n",
              "0   DOGE   1779  0.005439  0.094605 -0.384645 -0.000836  2.565113   \n",
              "1    SOL   1779  0.004393  0.061933 -0.444644  0.000408  0.373539   \n",
              "2    XDC   1733  0.003223  0.059951 -0.218544 -0.002301  0.798140   \n",
              "3    XRP   1776  0.002822  0.057136 -0.415469  0.000016  0.685225   \n",
              "4    QNT   1779  0.002795  0.058849 -0.306665 -0.001711  0.841367   \n",
              "5   HBAR   1779  0.002558  0.058197 -0.251430 -0.001656  0.459800   \n",
              "6    ETH   1779  0.002186  0.041280 -0.236596  0.000994  0.285306   \n",
              "7    XLM   1779  0.002170  0.053625 -0.261418 -0.000556  0.586032   \n",
              "8    BTC   1779  0.001760  0.030738 -0.157450  0.000427  0.150395   \n",
              "\n",
              "     avg_atr14  avg_bb_width  \n",
              "0     0.013072      0.392171  \n",
              "1     6.944898      0.404182  \n",
              "2     0.003911      0.329802  \n",
              "3     0.065648      0.318762  \n",
              "4     8.647304      0.324718  \n",
              "5     0.013156      0.343577  \n",
              "6   137.841740      0.271518  \n",
              "7     0.016627      0.303975  \n",
              "8  2085.338517      0.204650  "
            ]
          },
          "execution_count": 9,
          "metadata": {},
          "output_type": "execute_result"
        }
      ],
      "source": [
        "\n",
        "# performance & risk stats\n",
        "# Daily returns summary\n",
        "ret_summary = (recent.groupby(\"Symbol\")[\"return_1d\"]\n",
        "               .agg(count=\"count\", mean=\"mean\", std=\"std\",\n",
        "                    min=\"min\", median=\"median\", max=\"max\")\n",
        "               .reset_index())\n",
        "\n",
        "# Average ATR(14) and Bollinger width (risk proxies)\n",
        "risk_summary = (recent.groupby(\"Symbol\")\n",
        "                .agg(avg_atr14=(\"atr_14\",\"mean\"),\n",
        "                     avg_bb_width=(\"bb_width\",\"mean\"))\n",
        "                .reset_index())\n",
        "\n",
        "# Merge into one simple KPI table\n",
        "kpis = (ret_summary.merge(risk_summary, on=\"Symbol\", how=\"left\")\n",
        "        .sort_values([\"mean\",\"std\"], ascending=[False, True])\n",
        "        .reset_index(drop=True))\n",
        "\n",
        "kpis\n"
      ]
    },
    {
      "cell_type": "code",
      "execution_count": 10,
      "metadata": {},
      "outputs": [
        {
          "name": "stdout",
          "output_type": "stream",
          "text": [
            "Saved -> Reports/eda_return_correlation_365d.csv\n"
          ]
        }
      ],
      "source": [
        "# Daily correlations saved to reports folder\n",
        "\n",
        "ret_pivot = recent.pivot_table(index=\"Date\", columns=\"Symbol\", values=\"return_1d\")\n",
        "corr = ret_pivot.corr()\n",
        "corr\n",
        "\n",
        "corr.to_csv(REPORTS / \"eda_return_correlation_365d.csv\")\n",
        "print(\"Saved -> Reports/eda_return_correlation_365d.csv\")\n",
        "\n"
      ]
    },
    {
      "cell_type": "code",
      "execution_count": 11,
      "metadata": {},
      "outputs": [
        {
          "data": {
            "text/html": [
              "<div>\n",
              "<style scoped>\n",
              "    .dataframe tbody tr th:only-of-type {\n",
              "        vertical-align: middle;\n",
              "    }\n",
              "\n",
              "    .dataframe tbody tr th {\n",
              "        vertical-align: top;\n",
              "    }\n",
              "\n",
              "    .dataframe thead th {\n",
              "        text-align: right;\n",
              "    }\n",
              "</style>\n",
              "<table border=\"1\" class=\"dataframe\">\n",
              "  <thead>\n",
              "    <tr style=\"text-align: right;\">\n",
              "      <th></th>\n",
              "      <th>Symbol</th>\n",
              "      <th>Date</th>\n",
              "      <th>Close</th>\n",
              "      <th>ma_7</th>\n",
              "      <th>ma_30</th>\n",
              "      <th>rsi_14</th>\n",
              "      <th>macd_line</th>\n",
              "      <th>macd_signal</th>\n",
              "      <th>trend_up</th>\n",
              "      <th>macd_pos</th>\n",
              "      <th>rsi_band</th>\n",
              "      <th>indication</th>\n",
              "    </tr>\n",
              "  </thead>\n",
              "  <tbody>\n",
              "    <tr>\n",
              "      <th>0</th>\n",
              "      <td>BTC</td>\n",
              "      <td>2025-10-14</td>\n",
              "      <td>113196.600000</td>\n",
              "      <td>116360.514286</td>\n",
              "      <td>116217.613333</td>\n",
              "      <td>48.551510</td>\n",
              "      <td>207.126950</td>\n",
              "      <td>1094.169379</td>\n",
              "      <td>True</td>\n",
              "      <td>False</td>\n",
              "      <td>neutral(30-50)</td>\n",
              "      <td>HOLD</td>\n",
              "    </tr>\n",
              "    <tr>\n",
              "      <th>1</th>\n",
              "      <td>DOGE</td>\n",
              "      <td>2025-10-14</td>\n",
              "      <td>0.203692</td>\n",
              "      <td>0.214987</td>\n",
              "      <td>0.243295</td>\n",
              "      <td>42.942782</td>\n",
              "      <td>-0.010099</td>\n",
              "      <td>-0.004658</td>\n",
              "      <td>False</td>\n",
              "      <td>False</td>\n",
              "      <td>neutral(30-50)</td>\n",
              "      <td>HOLD</td>\n",
              "    </tr>\n",
              "    <tr>\n",
              "      <th>2</th>\n",
              "      <td>ETH</td>\n",
              "      <td>2025-10-14</td>\n",
              "      <td>4120.361000</td>\n",
              "      <td>4161.532429</td>\n",
              "      <td>4305.003700</td>\n",
              "      <td>49.254076</td>\n",
              "      <td>-52.798346</td>\n",
              "      <td>-23.064990</td>\n",
              "      <td>False</td>\n",
              "      <td>False</td>\n",
              "      <td>neutral(30-50)</td>\n",
              "      <td>HOLD</td>\n",
              "    </tr>\n",
              "    <tr>\n",
              "      <th>3</th>\n",
              "      <td>HBAR</td>\n",
              "      <td>2025-10-14</td>\n",
              "      <td>0.188223</td>\n",
              "      <td>0.189973</td>\n",
              "      <td>0.217411</td>\n",
              "      <td>40.498780</td>\n",
              "      <td>-0.011314</td>\n",
              "      <td>-0.008276</td>\n",
              "      <td>False</td>\n",
              "      <td>False</td>\n",
              "      <td>neutral(30-50)</td>\n",
              "      <td>HOLD</td>\n",
              "    </tr>\n",
              "    <tr>\n",
              "      <th>4</th>\n",
              "      <td>QNT</td>\n",
              "      <td>2025-10-14</td>\n",
              "      <td>89.724840</td>\n",
              "      <td>93.250864</td>\n",
              "      <td>98.301562</td>\n",
              "      <td>35.787155</td>\n",
              "      <td>-2.500649</td>\n",
              "      <td>-1.206625</td>\n",
              "      <td>False</td>\n",
              "      <td>False</td>\n",
              "      <td>neutral(30-50)</td>\n",
              "      <td>HOLD</td>\n",
              "    </tr>\n",
              "    <tr>\n",
              "      <th>5</th>\n",
              "      <td>SOL</td>\n",
              "      <td>2025-10-14</td>\n",
              "      <td>201.350700</td>\n",
              "      <td>203.800900</td>\n",
              "      <td>219.527010</td>\n",
              "      <td>47.036943</td>\n",
              "      <td>-4.741334</td>\n",
              "      <td>-1.780827</td>\n",
              "      <td>False</td>\n",
              "      <td>False</td>\n",
              "      <td>neutral(30-50)</td>\n",
              "      <td>HOLD</td>\n",
              "    </tr>\n",
              "    <tr>\n",
              "      <th>6</th>\n",
              "      <td>XDC</td>\n",
              "      <td>2025-10-14</td>\n",
              "      <td>0.060637</td>\n",
              "      <td>0.065003</td>\n",
              "      <td>0.072856</td>\n",
              "      <td>29.709337</td>\n",
              "      <td>-0.003828</td>\n",
              "      <td>-0.002509</td>\n",
              "      <td>False</td>\n",
              "      <td>False</td>\n",
              "      <td>oversold(&lt;30)</td>\n",
              "      <td>HOLD</td>\n",
              "    </tr>\n",
              "    <tr>\n",
              "      <th>7</th>\n",
              "      <td>XLM</td>\n",
              "      <td>2025-10-14</td>\n",
              "      <td>0.336802</td>\n",
              "      <td>0.345948</td>\n",
              "      <td>0.373930</td>\n",
              "      <td>44.441987</td>\n",
              "      <td>-0.010889</td>\n",
              "      <td>-0.005579</td>\n",
              "      <td>False</td>\n",
              "      <td>False</td>\n",
              "      <td>neutral(30-50)</td>\n",
              "      <td>HOLD</td>\n",
              "    </tr>\n",
              "    <tr>\n",
              "      <th>8</th>\n",
              "      <td>XRP</td>\n",
              "      <td>2025-10-14</td>\n",
              "      <td>2.496800</td>\n",
              "      <td>2.584217</td>\n",
              "      <td>2.855237</td>\n",
              "      <td>37.594345</td>\n",
              "      <td>-0.109110</td>\n",
              "      <td>-0.066034</td>\n",
              "      <td>False</td>\n",
              "      <td>False</td>\n",
              "      <td>neutral(30-50)</td>\n",
              "      <td>HOLD</td>\n",
              "    </tr>\n",
              "  </tbody>\n",
              "</table>\n",
              "</div>"
            ],
            "text/plain": [
              "  Symbol       Date          Close           ma_7          ma_30     rsi_14  \\\n",
              "0    BTC 2025-10-14  113196.600000  116360.514286  116217.613333  48.551510   \n",
              "1   DOGE 2025-10-14       0.203692       0.214987       0.243295  42.942782   \n",
              "2    ETH 2025-10-14    4120.361000    4161.532429    4305.003700  49.254076   \n",
              "3   HBAR 2025-10-14       0.188223       0.189973       0.217411  40.498780   \n",
              "4    QNT 2025-10-14      89.724840      93.250864      98.301562  35.787155   \n",
              "5    SOL 2025-10-14     201.350700     203.800900     219.527010  47.036943   \n",
              "6    XDC 2025-10-14       0.060637       0.065003       0.072856  29.709337   \n",
              "7    XLM 2025-10-14       0.336802       0.345948       0.373930  44.441987   \n",
              "8    XRP 2025-10-14       2.496800       2.584217       2.855237  37.594345   \n",
              "\n",
              "    macd_line  macd_signal  trend_up  macd_pos        rsi_band indication  \n",
              "0  207.126950  1094.169379      True     False  neutral(30-50)       HOLD  \n",
              "1   -0.010099    -0.004658     False     False  neutral(30-50)       HOLD  \n",
              "2  -52.798346   -23.064990     False     False  neutral(30-50)       HOLD  \n",
              "3   -0.011314    -0.008276     False     False  neutral(30-50)       HOLD  \n",
              "4   -2.500649    -1.206625     False     False  neutral(30-50)       HOLD  \n",
              "5   -4.741334    -1.780827     False     False  neutral(30-50)       HOLD  \n",
              "6   -0.003828    -0.002509     False     False   oversold(<30)       HOLD  \n",
              "7   -0.010889    -0.005579     False     False  neutral(30-50)       HOLD  \n",
              "8   -0.109110    -0.066034     False     False  neutral(30-50)       HOLD  "
            ]
          },
          "execution_count": 11,
          "metadata": {},
          "output_type": "execute_result"
        }
      ],
      "source": [
        "# Trend and momentum analysis\n",
        "\n",
        "# Latest row per coin (most recent date)\n",
        "latest = (recent.sort_values([\"Symbol\",\"Date\"])\n",
        "          .groupby(\"Symbol\")\n",
        "          .tail(1)\n",
        "          .reset_index(drop=True))\n",
        "\n",
        "latest[\"trend_up\"] = latest[\"ma_7\"] > latest[\"ma_30\"]\n",
        "latest[\"macd_pos\"] = latest[\"macd_line\"] > latest[\"macd_signal\"]\n",
        "\n",
        "# RSI bands (for info)\n",
        "latest[\"rsi_band\"] = pd.cut(\n",
        "    latest[\"rsi_14\"],\n",
        "    bins=[-np.inf,30,50,70,np.inf],\n",
        "    labels=[\"oversold(<30)\",\"neutral(30-50)\",\"caution(50-70)\",\"overbought(>70)\"]\n",
        ")\n",
        "\n",
        "# Indication\n",
        "cond_buy  = latest[\"trend_up\"] & latest[\"macd_pos\"] & (latest[\"rsi_14\"] < 60)\n",
        "cond_sell = (~latest[\"trend_up\"]) & (~latest[\"macd_pos\"]) & (latest[\"rsi_14\"] > 50)\n",
        "\n",
        "latest[\"indication\"] = np.select(\n",
        "    [cond_buy, cond_sell],\n",
        "    [\"BUY\", \"SELL\"],\n",
        "    default=\"HOLD\"\n",
        ")\n",
        "\n",
        "cols = [\"Symbol\",\"Date\",\"Close\",\"ma_7\",\"ma_30\",\"rsi_14\",\"macd_line\",\"macd_signal\",\"trend_up\",\"macd_pos\",\"rsi_band\",\"indication\"]\n",
        "signal_snapshot = latest[cols].sort_values(\"Symbol\").reset_index(drop=True)\n",
        "signal_snapshot\n"
      ]
    },
    {
      "cell_type": "code",
      "execution_count": 12,
      "metadata": {},
      "outputs": [
        {
          "name": "stdout",
          "output_type": "stream",
          "text": [
            "Saved -> Reports/eda_signal_snapshot_latest.csv\n"
          ]
        }
      ],
      "source": [
        "signal_snapshot.to_csv(REPORTS / \"eda_signal_snapshot_latest.csv\", index=False)\n",
        "print(\"Saved -> Reports/eda_signal_snapshot_latest.csv\")\n"
      ]
    },
    {
      "cell_type": "code",
      "execution_count": 13,
      "metadata": {},
      "outputs": [
        {
          "name": "stdout",
          "output_type": "stream",
          "text": [
            "Saved -> Reports/eda_viz_timeseries_365d.csv\n"
          ]
        }
      ],
      "source": [
        "# Minimal columns for visuals\n",
        "viz = recent[[\"Symbol\",\"Date\",\"Close\",\"ma_7\",\"ma_30\",\"rsi_14\",\"macd_line\",\"macd_signal\",\"bb_upper\",\"bb_lower\",\"atr_14\"]].copy()\n",
        "viz.to_csv(REPORTS / \"eda_viz_timeseries_365d.csv\", index=False)\n",
        "print(\"Saved -> Reports/eda_viz_timeseries_365d.csv\")\n"
      ]
    },
    {
      "cell_type": "markdown",
      "metadata": {},
      "source": [
        "---"
      ]
    }
  ],
  "metadata": {
    "accelerator": "GPU",
    "colab": {
      "name": "Data Practitioner Jupyter Notebook.ipynb",
      "provenance": [],
      "toc_visible": true
    },
    "kernelspec": {
      "display_name": ".venv",
      "language": "python",
      "name": "python3"
    },
    "language_info": {
      "codemirror_mode": {
        "name": "ipython",
        "version": 3
      },
      "file_extension": ".py",
      "mimetype": "text/x-python",
      "name": "python",
      "nbconvert_exporter": "python",
      "pygments_lexer": "ipython3",
      "version": "3.12.8"
    },
    "orig_nbformat": 2
  },
  "nbformat": 4,
  "nbformat_minor": 2
}
