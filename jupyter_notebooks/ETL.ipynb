{
  "cells": [
    {
      "cell_type": "markdown",
      "metadata": {
        "id": "0aStgWSO0E0E"
      },
      "source": [
        "# **(Crypto Currency Future Price Forecast ETL)**"
      ]
    },
    {
      "cell_type": "markdown",
      "metadata": {
        "id": "1eLEkw5O0ECa"
      },
      "source": [
        "## Objectives\n",
        "\n",
        "Purpose of this ETL:\n",
        "- prepare a clean, consistent dataset for multi-coin analysis and forecasting (top coins I chose: BTC, DOGE, ETH, HBAR, QNT, SOL, XDC, XLM, XRP).\n",
        "\n",
        "What I will do\n",
        "1) Load each coin CSV from `data/raw/`\n",
        "2) Look at the head/shape/info so I understand what’s inside\n",
        "3) Standardise column names (Date, Open, High, Low, Close, Volume), fix dtypes (if needed)\n",
        "4) Remove exact duplicates, handle missing values safely\n",
        "5) Save cleaned coin CSV to `data/cleaned/`\n",
        "\n",
        "\n",
        "## Inputs\n",
        "- Raw Data: DataSet>Raw>BTC.csv\n",
        "- Raw Data: DataSet>Raw>DOGE.csv\n",
        "- Raw Data: DataSet>Raw>ETH.csv\n",
        "- Raw Data: DataSet>Raw>HBAR.csv\n",
        "- Raw Data: DataSet>Raw>QNT.csv\n",
        "- Raw Data: DataSet>Raw>SOL.csv\n",
        "- Raw Data: DataSet>Raw>XDC.csv\n",
        "- Raw Data: DataSet>Raw>XLM.csv\n",
        "- Raw Data: DataSet>Raw>XRP.csv\n",
        "\n",
        "## Outputs\n",
        "- Cleaned Data: DataSet>Cleaned>crypto_clean.csv\n",
        "\n",
        "\n",
        "\n",
        "## Additional Comments\n",
        "- This section was assisted by AI (ChatGPT-4) to help write a robust CSV loader function as I was encountering load errors due to inconsistent CSV formats from different sources. I provided the AI with examples of the different CSV formats and it generated a function that could handle these variations. I then reviewed and tested the function to ensure it worked correctly with my data.\n",
        "\n",
        "\n",
        "\n"
      ]
    },
    {
      "cell_type": "markdown",
      "metadata": {
        "id": "9uWZXH9LwoQg"
      },
      "source": [
        "---"
      ]
    },
    {
      "cell_type": "markdown",
      "metadata": {
        "id": "cqP-UeN-z3i2"
      },
      "source": [
        "# Change working directory"
      ]
    },
    {
      "cell_type": "markdown",
      "metadata": {},
      "source": [
        "* We are assuming you will store the notebooks in a subfolder, therefore when running the notebook in the editor, you will need to change the working directory"
      ]
    },
    {
      "cell_type": "markdown",
      "metadata": {
        "id": "aOGIGS-uz3i2"
      },
      "source": [
        "We need to change the working directory from its current folder to its parent folder\n",
        "* We access the current directory with os.getcwd()"
      ]
    },
    {
      "cell_type": "code",
      "execution_count": 3,
      "metadata": {
        "id": "wZfF_j-Bz3i4",
        "outputId": "66943449-1436-4c3d-85c7-b85f9f78349b"
      },
      "outputs": [
        {
          "data": {
            "text/plain": [
              "'c:\\\\Users\\\\Nine\\\\OneDrive\\\\Documents\\\\VS Code Projects\\\\Crypto-Currency-Future-Price-Forecast\\\\jupyter_notebooks'"
            ]
          },
          "execution_count": 3,
          "metadata": {},
          "output_type": "execute_result"
        }
      ],
      "source": [
        "import os\n",
        "current_dir = os.getcwd()\n",
        "current_dir"
      ]
    },
    {
      "cell_type": "markdown",
      "metadata": {
        "id": "9MWW8E7lz3i7"
      },
      "source": [
        "We want to make the parent of the current directory the new current directory\n",
        "* os.path.dirname() gets the parent directory\n",
        "* os.chir() defines the new current directory"
      ]
    },
    {
      "cell_type": "code",
      "execution_count": 4,
      "metadata": {
        "id": "TwHsQRWjz3i9",
        "outputId": "86849db3-cd2f-4cc5-ebb8-2d0caafa1a2c"
      },
      "outputs": [
        {
          "name": "stdout",
          "output_type": "stream",
          "text": [
            "You set a new current directory\n"
          ]
        }
      ],
      "source": [
        "os.chdir(os.path.dirname(current_dir))\n",
        "print(\"You set a new current directory\")"
      ]
    },
    {
      "cell_type": "markdown",
      "metadata": {
        "id": "M_xPk_Ijz3i-"
      },
      "source": [
        "Confirm the new current directory"
      ]
    },
    {
      "cell_type": "code",
      "execution_count": 5,
      "metadata": {
        "id": "vz3S-_kjz3jA",
        "outputId": "00b79ae4-75d0-4a96-d193-ac9ef9847ea2"
      },
      "outputs": [
        {
          "data": {
            "text/plain": [
              "'c:\\\\Users\\\\Nine\\\\OneDrive\\\\Documents\\\\VS Code Projects\\\\Crypto-Currency-Future-Price-Forecast'"
            ]
          },
          "execution_count": 5,
          "metadata": {},
          "output_type": "execute_result"
        }
      ],
      "source": [
        "current_dir = os.getcwd()\n",
        "current_dir"
      ]
    },
    {
      "cell_type": "markdown",
      "metadata": {
        "id": "-mavJ8DibrcQ"
      },
      "source": [
        "# Section 1"
      ]
    },
    {
      "cell_type": "markdown",
      "metadata": {},
      "source": [
        "Import libraries"
      ]
    },
    {
      "cell_type": "code",
      "execution_count": 6,
      "metadata": {},
      "outputs": [],
      "source": [
        "import pandas as pd\n",
        "import numpy as np\n",
        "from pathlib import Path\n",
        "import matplotlib.pyplot as plt"
      ]
    },
    {
      "cell_type": "markdown",
      "metadata": {
        "id": "ZY3l0-AxO93d"
      },
      "source": [
        "---"
      ]
    },
    {
      "cell_type": "markdown",
      "metadata": {
        "id": "uFQo3ycuO-v6"
      },
      "source": [
        "# Section 2"
      ]
    },
    {
      "cell_type": "markdown",
      "metadata": {},
      "source": [
        "Load the raw data and start ETL process."
      ]
    },
    {
      "cell_type": "markdown",
      "metadata": {},
      "source": [
        "---"
      ]
    },
    {
      "cell_type": "code",
      "execution_count": 7,
      "metadata": {},
      "outputs": [
        {
          "name": "stdout",
          "output_type": "stream",
          "text": [
            "Raw folder: C:\\Users\\Nine\\OneDrive\\Documents\\VS Code Projects\\Crypto-Currency-Future-Price-Forecast\\DataSet\\Raw\n",
            "Clean folder: C:\\Users\\Nine\\OneDrive\\Documents\\VS Code Projects\\Crypto-Currency-Future-Price-Forecast\\DataSet\\Cleaned\n",
            "Files found: ['BTC.csv', 'DOGE.csv', 'ETH.csv', 'HBAR.csv', 'QNT.csv', 'SOL.csv', 'XDC.csv', 'XLM.csv', 'XRP.csv']\n"
          ]
        }
      ],
      "source": [
        "\n",
        "RAW_DIR = Path(\"DataSet/Raw\")       # use your folder\n",
        "CLEAN_DIR = Path(\"DataSet/Cleaned\") # use your folder (already exists)\n",
        "SYMBOLS = [\"BTC\",\"DOGE\",\"ETH\",\"HBAR\",\"QNT\",\"SOL\",\"XDC\",\"XLM\",\"XRP\"]\n",
        "\n",
        "print(\"Raw folder:\", RAW_DIR.resolve())\n",
        "print(\"Clean folder:\", CLEAN_DIR.resolve())\n",
        "print(\"Files found:\", [p.name for p in RAW_DIR.glob(\"*.csv\")])\n"
      ]
    },
    {
      "cell_type": "code",
      "execution_count": null,
      "metadata": {},
      "outputs": [
        {
          "data": {
            "text/plain": [
              "9"
            ]
          },
          "execution_count": 8,
          "metadata": {},
          "output_type": "execute_result"
        }
      ],
      "source": [
        "# Load each coin's data, clean and standardise it, then combine into one big DataFrame\n",
        "\n",
        "frames = []\n",
        "\n",
        "for sym in SYMBOLS:\n",
        "    path = RAW_DIR / f\"{sym}.csv\"\n",
        "    assert path.exists(), f\"Missing file: {path.name}\"\n",
        "\n",
        "    # Read and normalise column names\n",
        "    df = pd.read_csv(path)\n",
        "    df.columns = [c.strip().lower() for c in df.columns]   # e.g., 'date','open','high','low','close','ticker'\n",
        "    \n",
        "    # Keep only what I need, then rename to a standard schema\n",
        "    # The files you showed have: ticker, date, open, high, low, close (no volume)\n",
        "    keep = [\"date\",\"open\",\"high\",\"low\",\"close\"]\n",
        "    assert all(c in df.columns for c in keep), f\"{path.name} is missing required columns.\"\n",
        "    \n",
        "    df = df[keep].copy()\n",
        "    df = df.rename(columns={\n",
        "        \"date\":  \"Date\",\n",
        "        \"open\":  \"Open\",\n",
        "        \"high\":  \"High\",\n",
        "        \"low\":   \"Low\",\n",
        "        \"close\": \"Close\"\n",
        "    })\n",
        "    \n",
        "    # Add the Symbol column from the filename (clear and reliable)\n",
        "    df.insert(0, \"Symbol\", sym)\n",
        "\n",
        "    frames.append(df)\n",
        "\n",
        "len(frames)\n",
        "\n"
      ]
    },
    {
      "cell_type": "code",
      "execution_count": null,
      "metadata": {},
      "outputs": [
        {
          "name": "stdout",
          "output_type": "stream",
          "text": [
            "Combined shape: (27898, 6)\n"
          ]
        },
        {
          "data": {
            "text/html": [
              "<div>\n",
              "<style scoped>\n",
              "    .dataframe tbody tr th:only-of-type {\n",
              "        vertical-align: middle;\n",
              "    }\n",
              "\n",
              "    .dataframe tbody tr th {\n",
              "        vertical-align: top;\n",
              "    }\n",
              "\n",
              "    .dataframe thead th {\n",
              "        text-align: right;\n",
              "    }\n",
              "</style>\n",
              "<table border=\"1\" class=\"dataframe\">\n",
              "  <thead>\n",
              "    <tr style=\"text-align: right;\">\n",
              "      <th></th>\n",
              "      <th>Symbol</th>\n",
              "      <th>Date</th>\n",
              "      <th>Open</th>\n",
              "      <th>High</th>\n",
              "      <th>Low</th>\n",
              "      <th>Close</th>\n",
              "    </tr>\n",
              "  </thead>\n",
              "  <tbody>\n",
              "    <tr>\n",
              "      <th>0</th>\n",
              "      <td>BTC</td>\n",
              "      <td>2010-07-17</td>\n",
              "      <td>0.04951</td>\n",
              "      <td>0.04951</td>\n",
              "      <td>0.04951</td>\n",
              "      <td>0.04951</td>\n",
              "    </tr>\n",
              "    <tr>\n",
              "      <th>1</th>\n",
              "      <td>BTC</td>\n",
              "      <td>2010-07-18</td>\n",
              "      <td>0.04951</td>\n",
              "      <td>0.08585</td>\n",
              "      <td>0.04951</td>\n",
              "      <td>0.08584</td>\n",
              "    </tr>\n",
              "    <tr>\n",
              "      <th>2</th>\n",
              "      <td>BTC</td>\n",
              "      <td>2010-07-19</td>\n",
              "      <td>0.08584</td>\n",
              "      <td>0.09307</td>\n",
              "      <td>0.07723</td>\n",
              "      <td>0.08080</td>\n",
              "    </tr>\n",
              "  </tbody>\n",
              "</table>\n",
              "</div>"
            ],
            "text/plain": [
              "  Symbol        Date     Open     High      Low    Close\n",
              "0    BTC  2010-07-17  0.04951  0.04951  0.04951  0.04951\n",
              "1    BTC  2010-07-18  0.04951  0.08585  0.04951  0.08584\n",
              "2    BTC  2010-07-19  0.08584  0.09307  0.07723  0.08080"
            ]
          },
          "execution_count": 9,
          "metadata": {},
          "output_type": "execute_result"
        }
      ],
      "source": [
        "# Combine all coins into one table\n",
        "\n",
        "raw_all = pd.concat(frames, ignore_index=True)\n",
        "\n",
        "print(\"Combined shape:\", raw_all.shape)\n",
        "raw_all.head(3)\n"
      ]
    },
    {
      "cell_type": "code",
      "execution_count": 10,
      "metadata": {},
      "outputs": [
        {
          "name": "stdout",
          "output_type": "stream",
          "text": [
            "Duplicates removed: 0\n",
            "Cleaned shape: (27898, 6)\n"
          ]
        },
        {
          "data": {
            "text/html": [
              "<div>\n",
              "<style scoped>\n",
              "    .dataframe tbody tr th:only-of-type {\n",
              "        vertical-align: middle;\n",
              "    }\n",
              "\n",
              "    .dataframe tbody tr th {\n",
              "        vertical-align: top;\n",
              "    }\n",
              "\n",
              "    .dataframe thead th {\n",
              "        text-align: right;\n",
              "    }\n",
              "</style>\n",
              "<table border=\"1\" class=\"dataframe\">\n",
              "  <thead>\n",
              "    <tr style=\"text-align: right;\">\n",
              "      <th></th>\n",
              "      <th>Symbol</th>\n",
              "      <th>Date</th>\n",
              "      <th>Open</th>\n",
              "      <th>High</th>\n",
              "      <th>Low</th>\n",
              "      <th>Close</th>\n",
              "    </tr>\n",
              "  </thead>\n",
              "  <tbody>\n",
              "    <tr>\n",
              "      <th>0</th>\n",
              "      <td>BTC</td>\n",
              "      <td>2010-07-17</td>\n",
              "      <td>0.04951</td>\n",
              "      <td>0.04951</td>\n",
              "      <td>0.04951</td>\n",
              "      <td>0.04951</td>\n",
              "    </tr>\n",
              "    <tr>\n",
              "      <th>1</th>\n",
              "      <td>BTC</td>\n",
              "      <td>2010-07-18</td>\n",
              "      <td>0.04951</td>\n",
              "      <td>0.08585</td>\n",
              "      <td>0.04951</td>\n",
              "      <td>0.08584</td>\n",
              "    </tr>\n",
              "    <tr>\n",
              "      <th>2</th>\n",
              "      <td>BTC</td>\n",
              "      <td>2010-07-19</td>\n",
              "      <td>0.08584</td>\n",
              "      <td>0.09307</td>\n",
              "      <td>0.07723</td>\n",
              "      <td>0.08080</td>\n",
              "    </tr>\n",
              "  </tbody>\n",
              "</table>\n",
              "</div>"
            ],
            "text/plain": [
              "  Symbol       Date     Open     High      Low    Close\n",
              "0    BTC 2010-07-17  0.04951  0.04951  0.04951  0.04951\n",
              "1    BTC 2010-07-18  0.04951  0.08585  0.04951  0.08584\n",
              "2    BTC 2010-07-19  0.08584  0.09307  0.07723  0.08080"
            ]
          },
          "execution_count": 10,
          "metadata": {},
          "output_type": "execute_result"
        }
      ],
      "source": [
        "# Basic Cleaning\n",
        "\n",
        "# Types\n",
        "raw_all[\"Date\"]  = pd.to_datetime(raw_all[\"Date\"], errors=\"coerce\")\n",
        "for col in [\"Open\",\"High\",\"Low\",\"Close\"]:\n",
        "    raw_all[col] = pd.to_numeric(raw_all[col], errors=\"coerce\")\n",
        "\n",
        "# Drop rows with no date or all prices missing\n",
        "raw_all = raw_all.dropna(subset=[\"Date\"])\n",
        "all_na_prices = raw_all[[\"Open\",\"High\",\"Low\",\"Close\"]].isna().all(axis=1)\n",
        "raw_all = raw_all.loc[~all_na_prices].copy()\n",
        "\n",
        "# Remove impossible prices (<= 0)\n",
        "bad = (raw_all[[\"Open\",\"High\",\"Low\",\"Close\"]] <= 0).any(axis=1)\n",
        "raw_all = raw_all.loc[~bad].copy()\n",
        "\n",
        "# Remove exact duplicates by (Symbol, Date)\n",
        "before = len(raw_all)\n",
        "raw_all = raw_all.sort_values([\"Symbol\",\"Date\"]).drop_duplicates([\"Symbol\",\"Date\"]).reset_index(drop=True)\n",
        "after = len(raw_all)\n",
        "\n",
        "print(f\"Duplicates removed: {before - after}\")\n",
        "print(\"Cleaned shape:\", raw_all.shape)\n",
        "raw_all.head(3)\n",
        "\n",
        "\n"
      ]
    },
    {
      "cell_type": "code",
      "execution_count": 11,
      "metadata": {},
      "outputs": [
        {
          "name": "stdout",
          "output_type": "stream",
          "text": [
            "Coins included: ['BTC', 'DOGE', 'ETH', 'HBAR', 'QNT', 'SOL', 'XDC', 'XLM', 'XRP']\n",
            "Date range by coin:\n"
          ]
        },
        {
          "data": {
            "text/html": [
              "<div>\n",
              "<style scoped>\n",
              "    .dataframe tbody tr th:only-of-type {\n",
              "        vertical-align: middle;\n",
              "    }\n",
              "\n",
              "    .dataframe tbody tr th {\n",
              "        vertical-align: top;\n",
              "    }\n",
              "\n",
              "    .dataframe thead th {\n",
              "        text-align: right;\n",
              "    }\n",
              "</style>\n",
              "<table border=\"1\" class=\"dataframe\">\n",
              "  <thead>\n",
              "    <tr style=\"text-align: right;\">\n",
              "      <th></th>\n",
              "      <th>Symbol</th>\n",
              "      <th>first_date</th>\n",
              "      <th>last_date</th>\n",
              "      <th>rows</th>\n",
              "    </tr>\n",
              "  </thead>\n",
              "  <tbody>\n",
              "    <tr>\n",
              "      <th>0</th>\n",
              "      <td>BTC</td>\n",
              "      <td>2010-07-17</td>\n",
              "      <td>2025-10-14</td>\n",
              "      <td>5521</td>\n",
              "    </tr>\n",
              "    <tr>\n",
              "      <th>1</th>\n",
              "      <td>DOGE</td>\n",
              "      <td>2016-07-01</td>\n",
              "      <td>2025-10-14</td>\n",
              "      <td>3345</td>\n",
              "    </tr>\n",
              "    <tr>\n",
              "      <th>2</th>\n",
              "      <td>ETH</td>\n",
              "      <td>2015-08-07</td>\n",
              "      <td>2025-10-14</td>\n",
              "      <td>3674</td>\n",
              "    </tr>\n",
              "    <tr>\n",
              "      <th>3</th>\n",
              "      <td>HBAR</td>\n",
              "      <td>2019-09-20</td>\n",
              "      <td>2025-10-14</td>\n",
              "      <td>2169</td>\n",
              "    </tr>\n",
              "    <tr>\n",
              "      <th>4</th>\n",
              "      <td>QNT</td>\n",
              "      <td>2019-02-05</td>\n",
              "      <td>2025-10-14</td>\n",
              "      <td>2396</td>\n",
              "    </tr>\n",
              "    <tr>\n",
              "      <th>5</th>\n",
              "      <td>SOL</td>\n",
              "      <td>2020-04-10</td>\n",
              "      <td>2025-10-14</td>\n",
              "      <td>1966</td>\n",
              "    </tr>\n",
              "    <tr>\n",
              "      <th>6</th>\n",
              "      <td>XDC</td>\n",
              "      <td>2020-04-02</td>\n",
              "      <td>2025-10-14</td>\n",
              "      <td>1813</td>\n",
              "    </tr>\n",
              "    <tr>\n",
              "      <th>7</th>\n",
              "      <td>XLM</td>\n",
              "      <td>2017-01-17</td>\n",
              "      <td>2025-10-14</td>\n",
              "      <td>3145</td>\n",
              "    </tr>\n",
              "    <tr>\n",
              "      <th>8</th>\n",
              "      <td>XRP</td>\n",
              "      <td>2015-01-21</td>\n",
              "      <td>2025-10-14</td>\n",
              "      <td>3869</td>\n",
              "    </tr>\n",
              "  </tbody>\n",
              "</table>\n",
              "</div>"
            ],
            "text/plain": [
              "  Symbol first_date  last_date  rows\n",
              "0    BTC 2010-07-17 2025-10-14  5521\n",
              "1   DOGE 2016-07-01 2025-10-14  3345\n",
              "2    ETH 2015-08-07 2025-10-14  3674\n",
              "3   HBAR 2019-09-20 2025-10-14  2169\n",
              "4    QNT 2019-02-05 2025-10-14  2396\n",
              "5    SOL 2020-04-10 2025-10-14  1966\n",
              "6    XDC 2020-04-02 2025-10-14  1813\n",
              "7    XLM 2017-01-17 2025-10-14  3145\n",
              "8    XRP 2015-01-21 2025-10-14  3869"
            ]
          },
          "metadata": {},
          "output_type": "display_data"
        },
        {
          "data": {
            "text/plain": [
              "Symbol    0\n",
              "Date      0\n",
              "Open      0\n",
              "High      0\n",
              "Low       0\n",
              "Close     0\n",
              "dtype: int64"
            ]
          },
          "execution_count": 11,
          "metadata": {},
          "output_type": "execute_result"
        }
      ],
      "source": [
        "# Quick Validation\n",
        "\n",
        "\n",
        "print(\"Coins included:\", sorted(raw_all[\"Symbol\"].unique()))\n",
        "print(\"Date range by coin:\")\n",
        "display(\n",
        "    raw_all.groupby(\"Symbol\")\n",
        "    .agg(first_date=(\"Date\",\"min\"), last_date=(\"Date\",\"max\"), rows=(\"Date\",\"count\"))\n",
        "    .reset_index()\n",
        ")\n",
        "\n",
        "# Check for any remaining missing values\n",
        "raw_all.isna().sum()\n"
      ]
    },
    {
      "cell_type": "code",
      "execution_count": null,
      "metadata": {},
      "outputs": [
        {
          "name": "stdout",
          "output_type": "stream",
          "text": [
            "Saved: DataSet\\Cleaned\\crypto_clean.csv | rows: 27898\n"
          ]
        },
        {
          "data": {
            "text/html": [
              "<div>\n",
              "<style scoped>\n",
              "    .dataframe tbody tr th:only-of-type {\n",
              "        vertical-align: middle;\n",
              "    }\n",
              "\n",
              "    .dataframe tbody tr th {\n",
              "        vertical-align: top;\n",
              "    }\n",
              "\n",
              "    .dataframe thead th {\n",
              "        text-align: right;\n",
              "    }\n",
              "</style>\n",
              "<table border=\"1\" class=\"dataframe\">\n",
              "  <thead>\n",
              "    <tr style=\"text-align: right;\">\n",
              "      <th></th>\n",
              "      <th>Symbol</th>\n",
              "      <th>Date</th>\n",
              "      <th>Open</th>\n",
              "      <th>High</th>\n",
              "      <th>Low</th>\n",
              "      <th>Close</th>\n",
              "    </tr>\n",
              "  </thead>\n",
              "  <tbody>\n",
              "    <tr>\n",
              "      <th>0</th>\n",
              "      <td>BTC</td>\n",
              "      <td>2010-07-17</td>\n",
              "      <td>0.04951</td>\n",
              "      <td>0.04951</td>\n",
              "      <td>0.04951</td>\n",
              "      <td>0.04951</td>\n",
              "    </tr>\n",
              "    <tr>\n",
              "      <th>1</th>\n",
              "      <td>BTC</td>\n",
              "      <td>2010-07-18</td>\n",
              "      <td>0.04951</td>\n",
              "      <td>0.08585</td>\n",
              "      <td>0.04951</td>\n",
              "      <td>0.08584</td>\n",
              "    </tr>\n",
              "    <tr>\n",
              "      <th>2</th>\n",
              "      <td>BTC</td>\n",
              "      <td>2010-07-19</td>\n",
              "      <td>0.08584</td>\n",
              "      <td>0.09307</td>\n",
              "      <td>0.07723</td>\n",
              "      <td>0.08080</td>\n",
              "    </tr>\n",
              "    <tr>\n",
              "      <th>3</th>\n",
              "      <td>BTC</td>\n",
              "      <td>2010-07-20</td>\n",
              "      <td>0.08080</td>\n",
              "      <td>0.08181</td>\n",
              "      <td>0.07426</td>\n",
              "      <td>0.07474</td>\n",
              "    </tr>\n",
              "    <tr>\n",
              "      <th>4</th>\n",
              "      <td>BTC</td>\n",
              "      <td>2010-07-21</td>\n",
              "      <td>0.07474</td>\n",
              "      <td>0.07921</td>\n",
              "      <td>0.06634</td>\n",
              "      <td>0.07921</td>\n",
              "    </tr>\n",
              "  </tbody>\n",
              "</table>\n",
              "</div>"
            ],
            "text/plain": [
              "  Symbol       Date     Open     High      Low    Close\n",
              "0    BTC 2010-07-17  0.04951  0.04951  0.04951  0.04951\n",
              "1    BTC 2010-07-18  0.04951  0.08585  0.04951  0.08584\n",
              "2    BTC 2010-07-19  0.08584  0.09307  0.07723  0.08080\n",
              "3    BTC 2010-07-20  0.08080  0.08181  0.07426  0.07474\n",
              "4    BTC 2010-07-21  0.07474  0.07921  0.06634  0.07921"
            ]
          },
          "execution_count": 12,
          "metadata": {},
          "output_type": "execute_result"
        }
      ],
      "source": [
        "# Save the cleaned combined data to DataSet/Cleaned/crypto_clean.csv\n",
        "\n",
        "out_path = CLEAN_DIR / \"crypto_clean.csv\"\n",
        "raw_all.to_csv(out_path, index=False)\n",
        "\n",
        "# Read back a preview to prove it saved correctly\n",
        "check = pd.read_csv(out_path, nrows=5, parse_dates=[\"Date\"])\n",
        "print(\"Saved:\", out_path, \"| rows:\", len(raw_all))\n",
        "check\n"
      ]
    },
    {
      "cell_type": "markdown",
      "metadata": {},
      "source": [
        "---"
      ]
    }
  ],
  "metadata": {
    "accelerator": "GPU",
    "colab": {
      "name": "Data Practitioner Jupyter Notebook.ipynb",
      "provenance": [],
      "toc_visible": true
    },
    "kernelspec": {
      "display_name": ".venv",
      "language": "python",
      "name": "python3"
    },
    "language_info": {
      "codemirror_mode": {
        "name": "ipython",
        "version": 3
      },
      "file_extension": ".py",
      "mimetype": "text/x-python",
      "name": "python",
      "nbconvert_exporter": "python",
      "pygments_lexer": "ipython3",
      "version": "3.12.8"
    },
    "orig_nbformat": 2
  },
  "nbformat": 4,
  "nbformat_minor": 2
}
